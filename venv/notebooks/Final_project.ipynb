{
 "cells": [
  {
   "cell_type": "markdown",
   "metadata": {},
   "source": [
    "## Подгружаем библиотеки"
   ]
  },
  {
   "cell_type": "code",
   "execution_count": 2,
   "metadata": {},
   "outputs": [],
   "source": [
    "import pandas as pd\n",
    "import numpy as np\n",
    "import scipy as sp\n",
    "\n",
    "import scipy.stats as st\n",
    "import statsmodels.api as sm\n",
    "import statsmodels.formula.api as smf\n",
    "\n",
    "import matplotlib.pyplot as plt\n",
    "import seaborn as sns\n",
    "%matplotlib inline\n",
    "\n",
    "import requests\n",
    "from urllib.parse import urlencode\n",
    "\n",
    "import pandahouse as ph"
   ]
  },
  {
   "cell_type": "markdown",
   "metadata": {},
   "source": [
    "# Решаем задачу 1"
   ]
  },
  {
   "cell_type": "markdown",
   "metadata": {},
   "source": [
    "## Подгружаем данные"
   ]
  },
  {
   "cell_type": "markdown",
   "metadata": {},
   "source": [
    "### Пишем функцию для загрузки файлов с Яндекс.Диска"
   ]
  },
  {
   "cell_type": "code",
   "execution_count": 3,
   "metadata": {},
   "outputs": [],
   "source": [
    "def get_data_yadisk(yadisk_url, file_storage_path):\n",
    "    \n",
    "    base_url = 'https://cloud-api.yandex.net/v1/disk/public/resources/download?'\n",
    "    public_key = yadisk_url  # Сюда вписываете вашу ссылку\n",
    "\n",
    "    # Получаем загрузочную ссылку\n",
    "    final_url = base_url + urlencode(dict(public_key=public_key))\n",
    "    response = requests.get(final_url)\n",
    "    download_url = response.json()['href']\n",
    "\n",
    "    # Загружаем файл и сохраняем его\n",
    "    download_response = requests.get(download_url)\n",
    "    dist_path = file_storage_path\n",
    "    with open(dist_path, 'wb') as f:   # Здесь укажите нужный путь к файлу\n",
    "        f.write(download_response.content)\n",
    "    "
   ]
  },
  {
   "cell_type": "markdown",
   "metadata": {},
   "source": [
    "### Скачиваем данные"
   ]
  },
  {
   "cell_type": "code",
   "execution_count": 4,
   "metadata": {},
   "outputs": [],
   "source": [
    "# Прописываем URL для скачивания файлов\n",
    "url_groups = 'https://disk.yandex.ru/d/UhyYx41rTt3clQ'\n",
    "url_groups_add = 'https://disk.yandex.ru/d/5Kxrz02m3IBUwQ'\n",
    "url_checks = 'https://disk.yandex.ru/d/pH1q-VqcxXjsVA'\n",
    "url_active_studs = 'https://disk.yandex.ru/d/Tbs44Bm6H_FwFQ'\n",
    "\n",
    "# Прописываем названия для файлов\n",
    "file_path_groups = 'groups_final_test.csv'\n",
    "file_path_groups_add = 'groups_add_final_test.csv'\n",
    "file_path_checks = 'checks_final_test.csv'\n",
    "file_path_active_studs = 'active_studs_final_test.csv'"
   ]
  },
  {
   "cell_type": "code",
   "execution_count": 5,
   "metadata": {},
   "outputs": [
    {
     "data": {
      "text/html": [
       "<div>\n",
       "<style scoped>\n",
       "    .dataframe tbody tr th:only-of-type {\n",
       "        vertical-align: middle;\n",
       "    }\n",
       "\n",
       "    .dataframe tbody tr th {\n",
       "        vertical-align: top;\n",
       "    }\n",
       "\n",
       "    .dataframe thead th {\n",
       "        text-align: right;\n",
       "    }\n",
       "</style>\n",
       "<table border=\"1\" class=\"dataframe\">\n",
       "  <thead>\n",
       "    <tr style=\"text-align: right;\">\n",
       "      <th></th>\n",
       "      <th>id</th>\n",
       "      <th>grp</th>\n",
       "    </tr>\n",
       "  </thead>\n",
       "  <tbody>\n",
       "    <tr>\n",
       "      <th>0</th>\n",
       "      <td>1489</td>\n",
       "      <td>B</td>\n",
       "    </tr>\n",
       "    <tr>\n",
       "      <th>1</th>\n",
       "      <td>1627</td>\n",
       "      <td>A</td>\n",
       "    </tr>\n",
       "    <tr>\n",
       "      <th>2</th>\n",
       "      <td>1768</td>\n",
       "      <td>B</td>\n",
       "    </tr>\n",
       "    <tr>\n",
       "      <th>3</th>\n",
       "      <td>1783</td>\n",
       "      <td>B</td>\n",
       "    </tr>\n",
       "    <tr>\n",
       "      <th>4</th>\n",
       "      <td>1794</td>\n",
       "      <td>A</td>\n",
       "    </tr>\n",
       "  </tbody>\n",
       "</table>\n",
       "</div>"
      ],
      "text/plain": [
       "     id grp\n",
       "0  1489   B\n",
       "1  1627   A\n",
       "2  1768   B\n",
       "3  1783   B\n",
       "4  1794   A"
      ]
     },
     "execution_count": 5,
     "metadata": {},
     "output_type": "execute_result"
    }
   ],
   "source": [
    "# Скачиваем таблицу 'groups'\n",
    "# Это файл с информацией о принадлежности пользователя к контрольной или экспериментальной группе \n",
    "# (А – контроль, B – целевая группа) \n",
    "\n",
    "get_data_yadisk(url_groups,file_path_groups)\n",
    "\n",
    "# Записываем таблицу 'groups' в DataFrame\n",
    "groups = pd.read_csv(file_path_groups, sep = ';')\n",
    "\n",
    "# Проверяем, что DataFrame создалася корректно\n",
    "groups.head()"
   ]
  },
  {
   "cell_type": "code",
   "execution_count": 6,
   "metadata": {},
   "outputs": [
    {
     "data": {
      "text/html": [
       "<div>\n",
       "<style scoped>\n",
       "    .dataframe tbody tr th:only-of-type {\n",
       "        vertical-align: middle;\n",
       "    }\n",
       "\n",
       "    .dataframe tbody tr th {\n",
       "        vertical-align: top;\n",
       "    }\n",
       "\n",
       "    .dataframe thead th {\n",
       "        text-align: right;\n",
       "    }\n",
       "</style>\n",
       "<table border=\"1\" class=\"dataframe\">\n",
       "  <thead>\n",
       "    <tr style=\"text-align: right;\">\n",
       "      <th></th>\n",
       "      <th>id</th>\n",
       "      <th>grp</th>\n",
       "    </tr>\n",
       "  </thead>\n",
       "  <tbody>\n",
       "    <tr>\n",
       "      <th>0</th>\n",
       "      <td>5694584</td>\n",
       "      <td>B</td>\n",
       "    </tr>\n",
       "    <tr>\n",
       "      <th>1</th>\n",
       "      <td>5694830</td>\n",
       "      <td>B</td>\n",
       "    </tr>\n",
       "    <tr>\n",
       "      <th>2</th>\n",
       "      <td>5695057</td>\n",
       "      <td>B</td>\n",
       "    </tr>\n",
       "    <tr>\n",
       "      <th>3</th>\n",
       "      <td>5698872</td>\n",
       "      <td>B</td>\n",
       "    </tr>\n",
       "    <tr>\n",
       "      <th>4</th>\n",
       "      <td>5699067</td>\n",
       "      <td>B</td>\n",
       "    </tr>\n",
       "  </tbody>\n",
       "</table>\n",
       "</div>"
      ],
      "text/plain": [
       "        id grp\n",
       "0  5694584   B\n",
       "1  5694830   B\n",
       "2  5695057   B\n",
       "3  5698872   B\n",
       "4  5699067   B"
      ]
     },
     "execution_count": 6,
     "metadata": {},
     "output_type": "execute_result"
    }
   ],
   "source": [
    "# Скачиваем таблицу 'groups_add'\n",
    "get_data_yadisk(url_groups_add,file_path_groups_add)\n",
    "\n",
    "# Записываем таблицу 'groups' в DataFrame\n",
    "groups_add = pd.read_csv(file_path_groups_add, sep = ',')\n",
    "\n",
    "# Проверяем, что DataFrame создалася корректно\n",
    "groups_add.head()"
   ]
  },
  {
   "cell_type": "code",
   "execution_count": 7,
   "metadata": {},
   "outputs": [
    {
     "data": {
      "text/html": [
       "<div>\n",
       "<style scoped>\n",
       "    .dataframe tbody tr th:only-of-type {\n",
       "        vertical-align: middle;\n",
       "    }\n",
       "\n",
       "    .dataframe tbody tr th {\n",
       "        vertical-align: top;\n",
       "    }\n",
       "\n",
       "    .dataframe thead th {\n",
       "        text-align: right;\n",
       "    }\n",
       "</style>\n",
       "<table border=\"1\" class=\"dataframe\">\n",
       "  <thead>\n",
       "    <tr style=\"text-align: right;\">\n",
       "      <th></th>\n",
       "      <th>student_id</th>\n",
       "      <th>rev</th>\n",
       "    </tr>\n",
       "  </thead>\n",
       "  <tbody>\n",
       "    <tr>\n",
       "      <th>0</th>\n",
       "      <td>1627</td>\n",
       "      <td>990.0</td>\n",
       "    </tr>\n",
       "    <tr>\n",
       "      <th>1</th>\n",
       "      <td>3185</td>\n",
       "      <td>690.0</td>\n",
       "    </tr>\n",
       "    <tr>\n",
       "      <th>2</th>\n",
       "      <td>25973</td>\n",
       "      <td>690.0</td>\n",
       "    </tr>\n",
       "    <tr>\n",
       "      <th>3</th>\n",
       "      <td>26280</td>\n",
       "      <td>690.0</td>\n",
       "    </tr>\n",
       "    <tr>\n",
       "      <th>4</th>\n",
       "      <td>100300</td>\n",
       "      <td>990.0</td>\n",
       "    </tr>\n",
       "  </tbody>\n",
       "</table>\n",
       "</div>"
      ],
      "text/plain": [
       "   student_id    rev\n",
       "0        1627  990.0\n",
       "1        3185  690.0\n",
       "2       25973  690.0\n",
       "3       26280  690.0\n",
       "4      100300  990.0"
      ]
     },
     "execution_count": 7,
     "metadata": {},
     "output_type": "execute_result"
    }
   ],
   "source": [
    "# Скачиваем таблицу 'checks'\n",
    "get_data_yadisk(url_checks,file_path_checks)\n",
    "\n",
    "# Записываем таблицу 'checks' в DataFrame\n",
    "checks = pd.read_csv(file_path_checks, sep = ';')\n",
    "\n",
    "# Проверяем, что DataFrame создалася корректно\n",
    "checks.head()"
   ]
  },
  {
   "cell_type": "code",
   "execution_count": 8,
   "metadata": {},
   "outputs": [
    {
     "data": {
      "text/html": [
       "<div>\n",
       "<style scoped>\n",
       "    .dataframe tbody tr th:only-of-type {\n",
       "        vertical-align: middle;\n",
       "    }\n",
       "\n",
       "    .dataframe tbody tr th {\n",
       "        vertical-align: top;\n",
       "    }\n",
       "\n",
       "    .dataframe thead th {\n",
       "        text-align: right;\n",
       "    }\n",
       "</style>\n",
       "<table border=\"1\" class=\"dataframe\">\n",
       "  <thead>\n",
       "    <tr style=\"text-align: right;\">\n",
       "      <th></th>\n",
       "      <th>student_id</th>\n",
       "    </tr>\n",
       "  </thead>\n",
       "  <tbody>\n",
       "    <tr>\n",
       "      <th>0</th>\n",
       "      <td>581585</td>\n",
       "    </tr>\n",
       "    <tr>\n",
       "      <th>1</th>\n",
       "      <td>5723133</td>\n",
       "    </tr>\n",
       "    <tr>\n",
       "      <th>2</th>\n",
       "      <td>3276743</td>\n",
       "    </tr>\n",
       "    <tr>\n",
       "      <th>3</th>\n",
       "      <td>4238589</td>\n",
       "    </tr>\n",
       "    <tr>\n",
       "      <th>4</th>\n",
       "      <td>4475369</td>\n",
       "    </tr>\n",
       "  </tbody>\n",
       "</table>\n",
       "</div>"
      ],
      "text/plain": [
       "   student_id\n",
       "0      581585\n",
       "1     5723133\n",
       "2     3276743\n",
       "3     4238589\n",
       "4     4475369"
      ]
     },
     "execution_count": 8,
     "metadata": {},
     "output_type": "execute_result"
    }
   ],
   "source": [
    "# Скачиваем таблицу 'active_studs'\n",
    "get_data_yadisk(url_active_studs,file_path_active_studs)\n",
    "\n",
    "# Записываем таблицу 'active_studs' в DataFrame\n",
    "active_studs = pd.read_csv(file_path_active_studs, sep = ';')\n",
    "\n",
    "# Проверяем, что DataFrame создалася корректно\n",
    "active_studs.head()"
   ]
  },
  {
   "cell_type": "markdown",
   "metadata": {},
   "source": [
    "В таблицах 'checks' и 'active_studs' колонки со студентами называются 'student_id', а в других таблицах -- просто 'id'\n",
    "Это не очень удобно. Поменяем колонки в этих таблицах на просто 'id'"
   ]
  },
  {
   "cell_type": "code",
   "execution_count": 9,
   "metadata": {},
   "outputs": [],
   "source": [
    "# Меняем название колонок 'student_id' на 'id'\n",
    "\n",
    "active_studs = active_studs.rename(columns = {'student_id':'id'})\n",
    "checks = checks.rename(columns = {'student_id':'id'})"
   ]
  },
  {
   "cell_type": "markdown",
   "metadata": {},
   "source": [
    "## Проводим EDA"
   ]
  },
  {
   "cell_type": "markdown",
   "metadata": {},
   "source": [
    "#### Изучаем таблицу 'groups'"
   ]
  },
  {
   "cell_type": "code",
   "execution_count": 10,
   "metadata": {},
   "outputs": [
    {
     "data": {
      "text/html": [
       "<div>\n",
       "<style scoped>\n",
       "    .dataframe tbody tr th:only-of-type {\n",
       "        vertical-align: middle;\n",
       "    }\n",
       "\n",
       "    .dataframe tbody tr th {\n",
       "        vertical-align: top;\n",
       "    }\n",
       "\n",
       "    .dataframe thead th {\n",
       "        text-align: right;\n",
       "    }\n",
       "</style>\n",
       "<table border=\"1\" class=\"dataframe\">\n",
       "  <thead>\n",
       "    <tr style=\"text-align: right;\">\n",
       "      <th></th>\n",
       "      <th>id</th>\n",
       "      <th>grp</th>\n",
       "    </tr>\n",
       "  </thead>\n",
       "  <tbody>\n",
       "    <tr>\n",
       "      <th>0</th>\n",
       "      <td>1489</td>\n",
       "      <td>B</td>\n",
       "    </tr>\n",
       "    <tr>\n",
       "      <th>1</th>\n",
       "      <td>1627</td>\n",
       "      <td>A</td>\n",
       "    </tr>\n",
       "    <tr>\n",
       "      <th>2</th>\n",
       "      <td>1768</td>\n",
       "      <td>B</td>\n",
       "    </tr>\n",
       "    <tr>\n",
       "      <th>3</th>\n",
       "      <td>1783</td>\n",
       "      <td>B</td>\n",
       "    </tr>\n",
       "    <tr>\n",
       "      <th>4</th>\n",
       "      <td>1794</td>\n",
       "      <td>A</td>\n",
       "    </tr>\n",
       "  </tbody>\n",
       "</table>\n",
       "</div>"
      ],
      "text/plain": [
       "     id grp\n",
       "0  1489   B\n",
       "1  1627   A\n",
       "2  1768   B\n",
       "3  1783   B\n",
       "4  1794   A"
      ]
     },
     "execution_count": 10,
     "metadata": {},
     "output_type": "execute_result"
    }
   ],
   "source": [
    "# Смотрим структуру таблицы\n",
    "\n",
    "groups.head()"
   ]
  },
  {
   "cell_type": "code",
   "execution_count": 11,
   "metadata": {},
   "outputs": [
    {
     "data": {
      "text/plain": [
       "(74484, 2)"
      ]
     },
     "execution_count": 11,
     "metadata": {},
     "output_type": "execute_result"
    }
   ],
   "source": [
    "# Смотрим размеры таблицы\n",
    "\n",
    "groups.shape"
   ]
  },
  {
   "cell_type": "code",
   "execution_count": 12,
   "metadata": {
    "scrolled": true
   },
   "outputs": [
    {
     "data": {
      "text/plain": [
       "np.int64(0)"
      ]
     },
     "execution_count": 12,
     "metadata": {},
     "output_type": "execute_result"
    }
   ],
   "source": [
    "# Проверяем, наличие дубликатов id студентов\n",
    "\n",
    "groups.duplicated(subset = ['id']).sum()"
   ]
  },
  {
   "cell_type": "markdown",
   "metadata": {},
   "source": [
    "Дубликатов нет. В таблице только уникальные id студентов"
   ]
  },
  {
   "cell_type": "code",
   "execution_count": 13,
   "metadata": {},
   "outputs": [
    {
     "data": {
      "text/plain": [
       "grp\n",
       "B    0.803032\n",
       "A    0.196968\n",
       "Name: proportion, dtype: float64"
      ]
     },
     "execution_count": 13,
     "metadata": {},
     "output_type": "execute_result"
    }
   ],
   "source": [
    "# Смотрим соотношения тестовой и контрольной групп\n",
    "\n",
    "groups['grp'].value_counts(normalize = True)"
   ]
  },
  {
   "cell_type": "markdown",
   "metadata": {},
   "source": [
    "~80% пользователей -- в тестовой группе"
   ]
  },
  {
   "cell_type": "markdown",
   "metadata": {},
   "source": [
    "#### Изучаем таблицу 'groups_add'"
   ]
  },
  {
   "cell_type": "code",
   "execution_count": 14,
   "metadata": {},
   "outputs": [
    {
     "data": {
      "text/html": [
       "<div>\n",
       "<style scoped>\n",
       "    .dataframe tbody tr th:only-of-type {\n",
       "        vertical-align: middle;\n",
       "    }\n",
       "\n",
       "    .dataframe tbody tr th {\n",
       "        vertical-align: top;\n",
       "    }\n",
       "\n",
       "    .dataframe thead th {\n",
       "        text-align: right;\n",
       "    }\n",
       "</style>\n",
       "<table border=\"1\" class=\"dataframe\">\n",
       "  <thead>\n",
       "    <tr style=\"text-align: right;\">\n",
       "      <th></th>\n",
       "      <th>id</th>\n",
       "      <th>grp</th>\n",
       "    </tr>\n",
       "  </thead>\n",
       "  <tbody>\n",
       "    <tr>\n",
       "      <th>0</th>\n",
       "      <td>5694584</td>\n",
       "      <td>B</td>\n",
       "    </tr>\n",
       "    <tr>\n",
       "      <th>1</th>\n",
       "      <td>5694830</td>\n",
       "      <td>B</td>\n",
       "    </tr>\n",
       "    <tr>\n",
       "      <th>2</th>\n",
       "      <td>5695057</td>\n",
       "      <td>B</td>\n",
       "    </tr>\n",
       "    <tr>\n",
       "      <th>3</th>\n",
       "      <td>5698872</td>\n",
       "      <td>B</td>\n",
       "    </tr>\n",
       "    <tr>\n",
       "      <th>4</th>\n",
       "      <td>5699067</td>\n",
       "      <td>B</td>\n",
       "    </tr>\n",
       "  </tbody>\n",
       "</table>\n",
       "</div>"
      ],
      "text/plain": [
       "        id grp\n",
       "0  5694584   B\n",
       "1  5694830   B\n",
       "2  5695057   B\n",
       "3  5698872   B\n",
       "4  5699067   B"
      ]
     },
     "execution_count": 14,
     "metadata": {},
     "output_type": "execute_result"
    }
   ],
   "source": [
    "# Изучаем структуру таблицы\n",
    "\n",
    "groups_add.head()"
   ]
  },
  {
   "cell_type": "code",
   "execution_count": 15,
   "metadata": {},
   "outputs": [
    {
     "data": {
      "text/plain": [
       "92"
      ]
     },
     "execution_count": 15,
     "metadata": {},
     "output_type": "execute_result"
    }
   ],
   "source": [
    "# Изучаем размеры таблицы\n",
    "groups_add.shape[0]"
   ]
  },
  {
   "cell_type": "markdown",
   "metadata": {},
   "source": [
    "В таблице 'groups_add' всего 92 наблюдения по сравнению с ~74 000 в 'groups' "
   ]
  },
  {
   "cell_type": "code",
   "execution_count": 16,
   "metadata": {},
   "outputs": [
    {
     "data": {
      "text/plain": [
       "np.int64(0)"
      ]
     },
     "execution_count": 16,
     "metadata": {},
     "output_type": "execute_result"
    }
   ],
   "source": [
    "# Проверяем, наличие дубликатов id студентов\n",
    "\n",
    "groups_add.duplicated(subset = ['id']).sum()"
   ]
  },
  {
   "cell_type": "markdown",
   "metadata": {},
   "source": [
    "Дубликатов нет. В таблице только уникальные id студентов"
   ]
  },
  {
   "cell_type": "code",
   "execution_count": 17,
   "metadata": {},
   "outputs": [
    {
     "data": {
      "text/plain": [
       "grp\n",
       "B    0.76087\n",
       "A    0.23913\n",
       "Name: proportion, dtype: float64"
      ]
     },
     "execution_count": 17,
     "metadata": {},
     "output_type": "execute_result"
    }
   ],
   "source": [
    "# Смотрим соотношения тестовой и контрольной групп\n",
    "\n",
    "groups_add['grp'].value_counts(normalize = True)"
   ]
  },
  {
   "cell_type": "markdown",
   "metadata": {},
   "source": [
    "Соотношение групп схоже с таблицей 'groups'"
   ]
  },
  {
   "cell_type": "markdown",
   "metadata": {},
   "source": [
    "#### Изучаем таблицу 'active_studs'"
   ]
  },
  {
   "cell_type": "code",
   "execution_count": 18,
   "metadata": {
    "scrolled": true
   },
   "outputs": [
    {
     "data": {
      "text/html": [
       "<div>\n",
       "<style scoped>\n",
       "    .dataframe tbody tr th:only-of-type {\n",
       "        vertical-align: middle;\n",
       "    }\n",
       "\n",
       "    .dataframe tbody tr th {\n",
       "        vertical-align: top;\n",
       "    }\n",
       "\n",
       "    .dataframe thead th {\n",
       "        text-align: right;\n",
       "    }\n",
       "</style>\n",
       "<table border=\"1\" class=\"dataframe\">\n",
       "  <thead>\n",
       "    <tr style=\"text-align: right;\">\n",
       "      <th></th>\n",
       "      <th>id</th>\n",
       "    </tr>\n",
       "  </thead>\n",
       "  <tbody>\n",
       "    <tr>\n",
       "      <th>0</th>\n",
       "      <td>581585</td>\n",
       "    </tr>\n",
       "    <tr>\n",
       "      <th>1</th>\n",
       "      <td>5723133</td>\n",
       "    </tr>\n",
       "    <tr>\n",
       "      <th>2</th>\n",
       "      <td>3276743</td>\n",
       "    </tr>\n",
       "    <tr>\n",
       "      <th>3</th>\n",
       "      <td>4238589</td>\n",
       "    </tr>\n",
       "    <tr>\n",
       "      <th>4</th>\n",
       "      <td>4475369</td>\n",
       "    </tr>\n",
       "  </tbody>\n",
       "</table>\n",
       "</div>"
      ],
      "text/plain": [
       "        id\n",
       "0   581585\n",
       "1  5723133\n",
       "2  3276743\n",
       "3  4238589\n",
       "4  4475369"
      ]
     },
     "execution_count": 18,
     "metadata": {},
     "output_type": "execute_result"
    }
   ],
   "source": [
    "# Смотрим структуру таблицы\n",
    "\n",
    "active_studs.head()"
   ]
  },
  {
   "cell_type": "code",
   "execution_count": 19,
   "metadata": {},
   "outputs": [
    {
     "data": {
      "text/plain": [
       "(8341, 1)"
      ]
     },
     "execution_count": 19,
     "metadata": {},
     "output_type": "execute_result"
    }
   ],
   "source": [
    "# Смотрим размеры таблицы\n",
    "\n",
    "active_studs.shape"
   ]
  },
  {
   "cell_type": "code",
   "execution_count": 20,
   "metadata": {},
   "outputs": [
    {
     "data": {
      "text/plain": [
       "np.int64(0)"
      ]
     },
     "execution_count": 20,
     "metadata": {},
     "output_type": "execute_result"
    }
   ],
   "source": [
    "# Проверяем, наличие дубликатов id студентов\n",
    "\n",
    "active_studs.duplicated().sum()"
   ]
  },
  {
   "cell_type": "markdown",
   "metadata": {},
   "source": [
    "Дубликатов нет. В таблице только уникальные id студентов"
   ]
  },
  {
   "cell_type": "markdown",
   "metadata": {},
   "source": [
    "#### Изучаем таблицу 'checks'"
   ]
  },
  {
   "cell_type": "code",
   "execution_count": 21,
   "metadata": {},
   "outputs": [
    {
     "data": {
      "text/html": [
       "<div>\n",
       "<style scoped>\n",
       "    .dataframe tbody tr th:only-of-type {\n",
       "        vertical-align: middle;\n",
       "    }\n",
       "\n",
       "    .dataframe tbody tr th {\n",
       "        vertical-align: top;\n",
       "    }\n",
       "\n",
       "    .dataframe thead th {\n",
       "        text-align: right;\n",
       "    }\n",
       "</style>\n",
       "<table border=\"1\" class=\"dataframe\">\n",
       "  <thead>\n",
       "    <tr style=\"text-align: right;\">\n",
       "      <th></th>\n",
       "      <th>id</th>\n",
       "      <th>rev</th>\n",
       "    </tr>\n",
       "  </thead>\n",
       "  <tbody>\n",
       "    <tr>\n",
       "      <th>0</th>\n",
       "      <td>1627</td>\n",
       "      <td>990.0</td>\n",
       "    </tr>\n",
       "    <tr>\n",
       "      <th>1</th>\n",
       "      <td>3185</td>\n",
       "      <td>690.0</td>\n",
       "    </tr>\n",
       "    <tr>\n",
       "      <th>2</th>\n",
       "      <td>25973</td>\n",
       "      <td>690.0</td>\n",
       "    </tr>\n",
       "    <tr>\n",
       "      <th>3</th>\n",
       "      <td>26280</td>\n",
       "      <td>690.0</td>\n",
       "    </tr>\n",
       "    <tr>\n",
       "      <th>4</th>\n",
       "      <td>100300</td>\n",
       "      <td>990.0</td>\n",
       "    </tr>\n",
       "  </tbody>\n",
       "</table>\n",
       "</div>"
      ],
      "text/plain": [
       "       id    rev\n",
       "0    1627  990.0\n",
       "1    3185  690.0\n",
       "2   25973  690.0\n",
       "3   26280  690.0\n",
       "4  100300  990.0"
      ]
     },
     "execution_count": 21,
     "metadata": {},
     "output_type": "execute_result"
    }
   ],
   "source": [
    "# Смотрим структуру таблицы\n",
    "\n",
    "checks.head()"
   ]
  },
  {
   "cell_type": "code",
   "execution_count": 22,
   "metadata": {},
   "outputs": [
    {
     "data": {
      "text/plain": [
       "(541, 2)"
      ]
     },
     "execution_count": 22,
     "metadata": {},
     "output_type": "execute_result"
    }
   ],
   "source": [
    "# Смотрим размеры таблицы\n",
    "\n",
    "checks.shape"
   ]
  },
  {
   "cell_type": "code",
   "execution_count": 23,
   "metadata": {},
   "outputs": [
    {
     "data": {
      "text/plain": [
       "np.int64(0)"
      ]
     },
     "execution_count": 23,
     "metadata": {},
     "output_type": "execute_result"
    }
   ],
   "source": [
    "# Проверяем, наличие дубликатов id студентов\n",
    "\n",
    "checks.duplicated(subset = ['id']).sum()"
   ]
  },
  {
   "cell_type": "markdown",
   "metadata": {},
   "source": [
    "В таблице нет дубликатов. На одного студента приходится одно значение 'rev'.\n",
    "\n",
    "У нас нет информации по конкретным покупкам, так что будем считать, \n",
    "что 'rev' -- это суммарная revenue (прибыль) с пользователя за период проведения эксперимента."
   ]
  },
  {
   "cell_type": "markdown",
   "metadata": {},
   "source": [
    "### Дополнительно изучаем структуру данных"
   ]
  },
  {
   "cell_type": "markdown",
   "metadata": {},
   "source": [
    "##### Есть несколько вопросов по имеющимся таблицам:\n",
    "1. Как соотносятся между собой таблицы 'groups' и 'groups_add'. Пересекаются ли они?\n",
    "2. Могут ли быть пользователи, которые купили услуги и попали в таблицу 'checks', но при этом не были активными во время эксперимента и не попали в таблицу 'active_studs'\n",
    "3. Есть ли пользователи в 'active_studs', которых нет в 'groups'?\n",
    "4. Есть ли пользователи в 'checks', которых нет в 'groups'?\n"
   ]
  },
  {
   "cell_type": "markdown",
   "metadata": {},
   "source": [
    "#### Изучаем, как соотносятся между собой таблицы 'groups' и 'groups_add'"
   ]
  },
  {
   "cell_type": "code",
   "execution_count": 24,
   "metadata": {
    "scrolled": true
   },
   "outputs": [
    {
     "name": "stdout",
     "output_type": "stream",
     "text": [
      "74484\n",
      "92\n"
     ]
    }
   ],
   "source": [
    "# Смотрим кол-во строк в обоих таблицах\n",
    "\n",
    "print(groups.shape[0])\n",
    "print(groups_add.shape[0])"
   ]
  },
  {
   "cell_type": "markdown",
   "metadata": {},
   "source": [
    "В таблице 'groups_add' всего 92 юзера по сравнению с 74484 в таблице 'groups'"
   ]
  },
  {
   "cell_type": "markdown",
   "metadata": {},
   "source": [
    "Смотрим, пересекаются ли id студентов в таблицах"
   ]
  },
  {
   "cell_type": "code",
   "execution_count": 25,
   "metadata": {},
   "outputs": [
    {
     "data": {
      "text/plain": [
       "0"
      ]
     },
     "execution_count": 25,
     "metadata": {},
     "output_type": "execute_result"
    }
   ],
   "source": [
    "# Смотрим, сколько id студентов из 'groups' есть в 'groups_add'\n",
    "\n",
    "groups[groups['id'].isin(groups_add['id'])].shape[0]"
   ]
  },
  {
   "cell_type": "markdown",
   "metadata": {},
   "source": [
    "ID студентов не пересекаются в двух таблицах"
   ]
  },
  {
   "cell_type": "markdown",
   "metadata": {},
   "source": [
    "Изучаем соотношение групп в таблицах"
   ]
  },
  {
   "cell_type": "code",
   "execution_count": 26,
   "metadata": {},
   "outputs": [
    {
     "data": {
      "text/plain": [
       "grp\n",
       "B    0.803032\n",
       "A    0.196968\n",
       "Name: proportion, dtype: float64"
      ]
     },
     "execution_count": 26,
     "metadata": {},
     "output_type": "execute_result"
    }
   ],
   "source": [
    "# Смотрим соотношение групп в 'groups'\n",
    "\n",
    "groups['grp'].value_counts(normalize = True)"
   ]
  },
  {
   "cell_type": "code",
   "execution_count": 27,
   "metadata": {},
   "outputs": [
    {
     "data": {
      "text/plain": [
       "grp\n",
       "B    0.76087\n",
       "A    0.23913\n",
       "Name: proportion, dtype: float64"
      ]
     },
     "execution_count": 27,
     "metadata": {},
     "output_type": "execute_result"
    }
   ],
   "source": [
    "groups_add['grp'].value_counts(normalize = True)"
   ]
  },
  {
   "cell_type": "markdown",
   "metadata": {},
   "source": [
    "Соотношение групп примерно примерно равное"
   ]
  },
  {
   "cell_type": "markdown",
   "metadata": {},
   "source": [
    "##### Вывод по таблицам 'groups' и 'groups_add': \n",
    "\n",
    "Таблицы 'groups' и 'groups_add' похожи по структуре и соотношению групп. \n",
    "\n",
    "Данные из 'groups_add' лучше не использовать в анализе. Их прислали спустя два дня после главной таблицы 'groups'. Данные могли быть получены после истечения срока эксперимента, а значит могли быть подвержены влиянию не только экспериментальных факторов.\n",
    "\n",
    "Мы не можем узнать, при каких условиях собраны эти данные, и почему их прислали только спустя два дня, поэтому лучше будет исключить их из анализа. Тем более, что в таблице 'groups_add' всего 92 наблюдения по сравнению с 74484 в 'groups'. Такая прибавка в наблюдениях очень слабо повлияет на мощность теста при и так большой выборке."
   ]
  },
  {
   "cell_type": "markdown",
   "metadata": {},
   "source": [
    "#### Изучаем, есть ли пользователи, которые в течение эксперимента купили услуги, но не были активными  "
   ]
  },
  {
   "cell_type": "code",
   "execution_count": 28,
   "metadata": {
    "scrolled": true
   },
   "outputs": [
    {
     "name": "stdout",
     "output_type": "stream",
     "text": [
      "149\n",
      "27.54158964879852\n"
     ]
    }
   ],
   "source": [
    "# Смотрим, какие id есть в 'checks', но нет в 'active_studs', и сколько их\n",
    "\n",
    "# Делаем таблицу с нужными id\n",
    "inactive_buying_studs = checks[~checks['id'].isin(active_studs['id'])]\n",
    "\n",
    "# Смотрим, сколько в ней id\n",
    "print(inactive_buying_studs.shape[0])\n",
    "\n",
    "# Смотрим, какая доля таких id в общей массе платящих пользователей\n",
    "print(inactive_buying_studs.shape[0] / checks.shape[0] * 100) "
   ]
  },
  {
   "cell_type": "markdown",
   "metadata": {},
   "source": [
    "##### Вывод по неактивным платящим пользователям:\n",
    "Такие пользователи есть, и их почти треть от общего числа платящих пользователей. Такой большой процент вряд ли может быть ошибкой в данных.\n",
    "\n",
    "При анализе будем учитывать, что пользователь может совершать покупки, не заходя на платформу."
   ]
  },
  {
   "cell_type": "markdown",
   "metadata": {},
   "source": [
    "#### Проверяем, есть в 'active_studs' пользователи, которых нет в 'groups' и в 'groups_add'"
   ]
  },
  {
   "cell_type": "code",
   "execution_count": 29,
   "metadata": {},
   "outputs": [],
   "source": [
    "# Объединяем таблицы 'groups' и 'groups_add'\n",
    "\n",
    "groups_all = pd.concat([groups, groups_add])"
   ]
  },
  {
   "cell_type": "code",
   "execution_count": 30,
   "metadata": {},
   "outputs": [
    {
     "data": {
      "text/plain": [
       "0"
      ]
     },
     "execution_count": 30,
     "metadata": {},
     "output_type": "execute_result"
    }
   ],
   "source": [
    "# Выделяем id, которые есть в 'active_studs', но нет в 'groups' и 'groups_add'\n",
    "\n",
    "active_not_in_groups_all = active_studs[~active_studs['id'].isin(groups_all['id'])]\n",
    "\n",
    "# Считаем кол-во таких id\n",
    "\n",
    "active_not_in_groups_all.shape[0]"
   ]
  },
  {
   "cell_type": "markdown",
   "metadata": {},
   "source": [
    "**Вывод**: все id из 'active_studs' есть в 'groups' или 'groups_add'"
   ]
  },
  {
   "cell_type": "markdown",
   "metadata": {},
   "source": [
    "#### Проверяем, есть ли в 'checks' id, которые нет в 'groups' или 'groups_add'"
   ]
  },
  {
   "cell_type": "code",
   "execution_count": 31,
   "metadata": {},
   "outputs": [
    {
     "data": {
      "text/plain": [
       "0"
      ]
     },
     "execution_count": 31,
     "metadata": {},
     "output_type": "execute_result"
    }
   ],
   "source": [
    "# Выделяем id, которые есть в 'checks', но нет в 'groups' и 'groups_add'\n",
    "\n",
    "paying_not_in_groups_all = checks[~checks['id'].isin(groups_all['id'])]\n",
    "\n",
    "# Считаем кол-во таких id\n",
    "\n",
    "paying_not_in_groups_all.shape[0]"
   ]
  },
  {
   "cell_type": "markdown",
   "metadata": {},
   "source": [
    "**Вывод**: все id из 'checks' есть в 'groups' или 'groups_add'"
   ]
  },
  {
   "cell_type": "markdown",
   "metadata": {},
   "source": [
    "## Продумываем метрики\n",
    "Нужно продумать и записать метрики, по которым мы будем оценивать качество механики оплаты. Дальше из них нужно будет выбрать наиболее подходящие."
   ]
  },
  {
   "cell_type": "markdown",
   "metadata": {},
   "source": [
    "#### - Процент платящих пользователей - Paying Share\n",
    "**Как рассчитывается**\n",
    "(кол-во платящих пользователей) / (кол-во активных пользователей)\n",
    "\n",
    "Процент платящих пользователей хорошо подходит для оценки механики оплаты. На Paying Share влияет не так много факторов, и механика оплаты -- один из основных. Но Paying Share не оценивает денежную составляющую.\n",
    "\n",
    "\n",
    "#### - Средняя прибыль на пользователя - ARPU\n",
    "**Как рассчитывается:**  \n",
    "(прибыль за период) / (кол-во всех пользователей за период)\n",
    "\n",
    "Довольно стандартная метрика, которая в том числе хорошо подойдет и для оценки механики оплаты. Однако, как и большинство \"денежных\" метрик может иметь экстремально ненормальное распределение.\n",
    "\n",
    "\n",
    "#### - Средняя прибыль на платящего пользователя - ARPPU\n",
    "**Как рассчитывется:**\n",
    "(прибыль за период) / (кол-во платящих пользователей)\n",
    "\n",
    "Также подходящая метрика. Можно использовать как вспомогательную вместе с ARPU."
   ]
  },
  {
   "cell_type": "markdown",
   "metadata": {},
   "source": [
    "## Выбираем метрики\n",
    "\n",
    "Из указанных выше метрик нам для анализа подойдут ARPU и ARPPU.\n",
    "\n",
    "Их основные преимущества:\n",
    "1. Привычные метрики для бизнеса\n",
    "2. Легко интерпретировать\n",
    "\n",
    "Основные недостатки:\n",
    "1. Как и многие \"денежные\" метрики, могут иметь ненормальное распределение, что ограничивает применение стат тестов\n",
    "\n",
    "Решение о внедрении новой системы оплаты мы будем принимать по ARPU. В данном случае ARPU - более релевантная метрика для оценки системы оплаты, т.к. она учитывает всех пользователей -- платящих и не платящих. ARPPU будем использовать как вспомогательную."
   ]
  },
  {
   "cell_type": "markdown",
   "metadata": {},
   "source": [
    "## Подготавливаем данные"
   ]
  },
  {
   "cell_type": "markdown",
   "metadata": {},
   "source": [
    "### Удаляем из таблиц наблюдения по юзерам из 'groups_add'\n",
    "Так как мы не будем использовать при анализе пользователей из таблицы 'groups_add', нужно будет удалить наблюдения по этим пользователям из таблиц 'active_studs' и 'checks'."
   ]
  },
  {
   "cell_type": "markdown",
   "metadata": {},
   "source": [
    "**Удаляем данные из таблицы 'active_studs'**"
   ]
  },
  {
   "cell_type": "code",
   "execution_count": 32,
   "metadata": {},
   "outputs": [],
   "source": [
    "# Создаем копию таблицы 'active_studs' без id из 'groups_add'\n",
    "\n",
    "active_studs_filtered = (active_studs[~active_studs['id']\n",
    "                        .isin(groups_add['id'])] \n",
    "                        .copy()) # создаем копию, чтобы избежать конфликтов в дальнейшем "
   ]
  },
  {
   "cell_type": "code",
   "execution_count": 33,
   "metadata": {},
   "outputs": [
    {
     "data": {
      "text/html": [
       "<div>\n",
       "<style scoped>\n",
       "    .dataframe tbody tr th:only-of-type {\n",
       "        vertical-align: middle;\n",
       "    }\n",
       "\n",
       "    .dataframe tbody tr th {\n",
       "        vertical-align: top;\n",
       "    }\n",
       "\n",
       "    .dataframe thead th {\n",
       "        text-align: right;\n",
       "    }\n",
       "</style>\n",
       "<table border=\"1\" class=\"dataframe\">\n",
       "  <thead>\n",
       "    <tr style=\"text-align: right;\">\n",
       "      <th></th>\n",
       "      <th>id</th>\n",
       "    </tr>\n",
       "  </thead>\n",
       "  <tbody>\n",
       "  </tbody>\n",
       "</table>\n",
       "</div>"
      ],
      "text/plain": [
       "Empty DataFrame\n",
       "Columns: [id]\n",
       "Index: []"
      ]
     },
     "execution_count": 33,
     "metadata": {},
     "output_type": "execute_result"
    }
   ],
   "source": [
    "# Проверяем, что таблица отфильтровалась корректно\n",
    "\n",
    "active_studs_filtered[active_studs_filtered['id'].isin(groups_add['id'])]"
   ]
  },
  {
   "cell_type": "markdown",
   "metadata": {},
   "source": [
    "Таблица отфильтровалась корректно"
   ]
  },
  {
   "cell_type": "markdown",
   "metadata": {},
   "source": [
    "**Удаляем данные из таблицы 'checks'**"
   ]
  },
  {
   "cell_type": "code",
   "execution_count": 34,
   "metadata": {},
   "outputs": [],
   "source": [
    "# Создаем копию таблицы 'checks' без id из 'groups_add'\n",
    "\n",
    "checks_filtered = (checks[~checks['id']\n",
    "                  .isin(groups_add['id'])]\n",
    "                  .copy()) # создаем копию, чтобы избежать конфликтов в дальнешем "
   ]
  },
  {
   "cell_type": "code",
   "execution_count": 35,
   "metadata": {},
   "outputs": [
    {
     "data": {
      "text/html": [
       "<div>\n",
       "<style scoped>\n",
       "    .dataframe tbody tr th:only-of-type {\n",
       "        vertical-align: middle;\n",
       "    }\n",
       "\n",
       "    .dataframe tbody tr th {\n",
       "        vertical-align: top;\n",
       "    }\n",
       "\n",
       "    .dataframe thead th {\n",
       "        text-align: right;\n",
       "    }\n",
       "</style>\n",
       "<table border=\"1\" class=\"dataframe\">\n",
       "  <thead>\n",
       "    <tr style=\"text-align: right;\">\n",
       "      <th></th>\n",
       "      <th>id</th>\n",
       "      <th>rev</th>\n",
       "    </tr>\n",
       "  </thead>\n",
       "  <tbody>\n",
       "  </tbody>\n",
       "</table>\n",
       "</div>"
      ],
      "text/plain": [
       "Empty DataFrame\n",
       "Columns: [id, rev]\n",
       "Index: []"
      ]
     },
     "execution_count": 35,
     "metadata": {},
     "output_type": "execute_result"
    }
   ],
   "source": [
    "# Проверяем, что таблица отфильтровалась корректно\n",
    "\n",
    "checks_filtered[checks_filtered['id'].isin(groups_add['id'])]"
   ]
  },
  {
   "cell_type": "markdown",
   "metadata": {},
   "source": [
    "Таблица отфильтровалась корректно"
   ]
  },
  {
   "cell_type": "markdown",
   "metadata": {},
   "source": [
    "## Рассчитываем метрики\n",
    "Сейчас нам нужно собрать данные по каждой метрике в двух форматах:\n",
    "1. Усредненные данные по всем пользователям, то есть сами метрики. По ним посмотрим, есть ли вообще различие между группами\n",
    "2. Неагрегированные данные по каждому пользователю. Эти данные будем использовать при рассчетах тестов"
   ]
  },
  {
   "cell_type": "markdown",
   "metadata": {},
   "source": [
    "### Рассчитываем среднюю прибыль на пользователя - ARPU"
   ]
  },
  {
   "cell_type": "code",
   "execution_count": 36,
   "metadata": {
    "scrolled": true
   },
   "outputs": [
    {
     "data": {
      "text/html": [
       "<div>\n",
       "<style scoped>\n",
       "    .dataframe tbody tr th:only-of-type {\n",
       "        vertical-align: middle;\n",
       "    }\n",
       "\n",
       "    .dataframe tbody tr th {\n",
       "        vertical-align: top;\n",
       "    }\n",
       "\n",
       "    .dataframe thead th {\n",
       "        text-align: right;\n",
       "    }\n",
       "</style>\n",
       "<table border=\"1\" class=\"dataframe\">\n",
       "  <thead>\n",
       "    <tr style=\"text-align: right;\">\n",
       "      <th></th>\n",
       "      <th>id</th>\n",
       "      <th>grp</th>\n",
       "      <th>rev</th>\n",
       "    </tr>\n",
       "  </thead>\n",
       "  <tbody>\n",
       "    <tr>\n",
       "      <th>0</th>\n",
       "      <td>1489</td>\n",
       "      <td>B</td>\n",
       "      <td>0.0</td>\n",
       "    </tr>\n",
       "    <tr>\n",
       "      <th>1</th>\n",
       "      <td>1627</td>\n",
       "      <td>A</td>\n",
       "      <td>990.0</td>\n",
       "    </tr>\n",
       "    <tr>\n",
       "      <th>2</th>\n",
       "      <td>1768</td>\n",
       "      <td>B</td>\n",
       "      <td>0.0</td>\n",
       "    </tr>\n",
       "    <tr>\n",
       "      <th>3</th>\n",
       "      <td>1783</td>\n",
       "      <td>B</td>\n",
       "      <td>0.0</td>\n",
       "    </tr>\n",
       "    <tr>\n",
       "      <th>4</th>\n",
       "      <td>1794</td>\n",
       "      <td>A</td>\n",
       "      <td>0.0</td>\n",
       "    </tr>\n",
       "  </tbody>\n",
       "</table>\n",
       "</div>"
      ],
      "text/plain": [
       "     id grp    rev\n",
       "0  1489   B    0.0\n",
       "1  1627   A  990.0\n",
       "2  1768   B    0.0\n",
       "3  1783   B    0.0\n",
       "4  1794   A    0.0"
      ]
     },
     "execution_count": 36,
     "metadata": {},
     "output_type": "execute_result"
    }
   ],
   "source": [
    "# Джоиним прибыль с пользователя из 'checks_filtered' в 'groups' и выделяем в отдельную таблицу\n",
    "\n",
    "groups_w_rev = (groups\n",
    "                .merge(right = checks_filtered, on = 'id', how = 'left') # джоиним таблицу checks\n",
    "                .fillna(value = 0) # пропуски заполняем нулями\n",
    "               )\n",
    "\n",
    "groups_w_rev.head()"
   ]
  },
  {
   "cell_type": "code",
   "execution_count": 37,
   "metadata": {},
   "outputs": [
    {
     "name": "stdout",
     "output_type": "stream",
     "text": [
      "74484\n",
      "74484\n",
      "74484\n",
      "74484\n"
     ]
    }
   ],
   "source": [
    "# Проверяем, что в результате джоина не добавилось ничего лишнего\n",
    "# Результаты всех функций ниже должны быть равны\n",
    "\n",
    "print(groups['id'].count())          # кол-во id в изначальной таблице groups\n",
    "print(groups_w_rev['id'].count())    # кол-во id в получившейся таблице после джоина\n",
    "print(groups['id'].nunique())        # кол-во уникальных id в изначальной таблице groups\n",
    "print(groups_w_rev['id'].nunique())  # кол-во уникальных id в получившейся таблице после джоина"
   ]
  },
  {
   "cell_type": "markdown",
   "metadata": {},
   "source": [
    "Таблички сджоинились корректно"
   ]
  },
  {
   "cell_type": "code",
   "execution_count": 38,
   "metadata": {},
   "outputs": [],
   "source": [
    "# Разбиваем получившуюся таблицу c RPU на две по группам A и B\n",
    "\n",
    "a_group_rpu = groups_w_rev.query('grp == \"A\"')\n",
    "b_group_rpu = groups_w_rev.query('grp == \"B\"')"
   ]
  },
  {
   "cell_type": "code",
   "execution_count": 39,
   "metadata": {},
   "outputs": [],
   "source": [
    "# Вычисляем средний доход на пользователя (ARPU) по каждой группе\n",
    "\n",
    "a_group_arpu = a_group_rpu['rev'].mean()\n",
    "b_group_arpu = b_group_rpu['rev'].mean()"
   ]
  },
  {
   "cell_type": "markdown",
   "metadata": {},
   "source": [
    "### Рассчитываем прибыль на платящего пользователя - ARPPU"
   ]
  },
  {
   "cell_type": "code",
   "execution_count": 40,
   "metadata": {},
   "outputs": [],
   "source": [
    "# Джоиним информацию по группам пользователей из таблицы 'groups' в 'checks_filtered' и выделяем в отдельную таблицу\n",
    "\n",
    "paying_groups_w_rev = checks_filtered.merge(right = groups, on = 'id', how = 'left')"
   ]
  },
  {
   "cell_type": "code",
   "execution_count": 41,
   "metadata": {
    "scrolled": true
   },
   "outputs": [
    {
     "name": "stdout",
     "output_type": "stream",
     "text": [
      "540\n",
      "540\n",
      "540\n",
      "540\n"
     ]
    }
   ],
   "source": [
    "# Проверяем, что в результате джоина не добавилось ничего лишнего\n",
    "# Результаты всех функций ниже должны быть одинаковыми\n",
    "\n",
    "print(checks_filtered['id'].count())       # кол-во id в таблице checks_filtered, куда мы джоинили группы\n",
    "print(checks_filtered['id'].nunique())     # кол-во уникальных id в таблице checks_filtered, куда мы джоинили группы\n",
    "print(paying_groups_w_rev['id'].count())   # кол-во id в получившейся таблице после джоина\n",
    "print(paying_groups_w_rev['id'].nunique()) # кол-во уникальных id в получившейся таблице после джоина\n"
   ]
  },
  {
   "cell_type": "markdown",
   "metadata": {},
   "source": [
    "Таблицы сджоинились корректно"
   ]
  },
  {
   "cell_type": "code",
   "execution_count": 42,
   "metadata": {},
   "outputs": [],
   "source": [
    "# Разбиваем получившуюся таблицу с RPPU на две по группам A и B\n",
    "\n",
    "a_group_rppu = paying_groups_w_rev.query('grp == \"A\"')\n",
    "b_group_rppu = paying_groups_w_rev.query('grp == \"B\"')"
   ]
  },
  {
   "cell_type": "code",
   "execution_count": 43,
   "metadata": {},
   "outputs": [],
   "source": [
    "# Вычисляем средний доход на платящего пользователя (ARPPU) по каждой группе\n",
    "\n",
    "a_group_arppu = a_group_rppu['rev'].mean()\n",
    "b_group_arppu = b_group_rppu['rev'].mean()"
   ]
  },
  {
   "cell_type": "markdown",
   "metadata": {},
   "source": [
    "## Изучаем различия между группами\n",
    "Для начала нужно посмотреть, есть ли вообще различия в метриках между группами. Если есть, то проверим их статистическую значимость с помощью тестов"
   ]
  },
  {
   "cell_type": "markdown",
   "metadata": {},
   "source": [
    "### Сравниваем ARPU"
   ]
  },
  {
   "cell_type": "code",
   "execution_count": 44,
   "metadata": {},
   "outputs": [
    {
     "name": "stdout",
     "output_type": "stream",
     "text": [
      "ARPU в группе A = 6.277418035580396\n",
      "ARPU в группе B = 8.013809767107485\n"
     ]
    }
   ],
   "source": [
    "# Выводим ARPU в каждой группе и сравниваем \"на глаз\"\n",
    "\n",
    "print(f'ARPU в группе A = {a_group_arpu}')\n",
    "print(f'ARPU в группе B = {b_group_arpu}')\n"
   ]
  },
  {
   "cell_type": "markdown",
   "metadata": {},
   "source": [
    "Как видим, разница в ARPU есть. Нужно будет проверить статистическую значимость различий."
   ]
  },
  {
   "cell_type": "markdown",
   "metadata": {},
   "source": [
    "### Сравниваем ARPPU"
   ]
  },
  {
   "cell_type": "code",
   "execution_count": 45,
   "metadata": {},
   "outputs": [
    {
     "name": "stdout",
     "output_type": "stream",
     "text": [
      "ARPPU в группе A = 860.7102803738318\n",
      "ARPPU в группе B = 1106.9976988452656\n"
     ]
    }
   ],
   "source": [
    "# Выводим ARPU в каждой группе и сравниваем \"на глаз\"\n",
    "\n",
    "print(f'ARPPU в группе A = {a_group_arppu}')\n",
    "print(f'ARPPU в группе B = {b_group_arppu}')"
   ]
  },
  {
   "cell_type": "markdown",
   "metadata": {},
   "source": [
    "ARPPU в группах также различается"
   ]
  },
  {
   "cell_type": "markdown",
   "metadata": {},
   "source": [
    "## Подбираем статистические тесты\n",
    "Теперь нужно подобрать статистические критерии, с помощью которых будем сравнивать метрики в двух группах и оценивать статистическую значимость различий, если такие будут.\n",
    "\n",
    "**Выбор статистических тестов будет зависеть от следующих факторов:**\n",
    "1. Типы переменных\n",
    "2. Соблюдение требований для статистических тестов "
   ]
  },
  {
   "cell_type": "markdown",
   "metadata": {},
   "source": [
    "### Выбираем Стат критерий для ARPU\n",
    "ARPU -- количественная непрервыная переменная. Для нее подойдут:\n",
    "- Т-тест, если соблюдаются допущения: нормальное распределение, отсутствие выбросов, гомогенность дисперсий и независимость наблюдений. <br>\n",
    "Эти требования не строго обязательны, если выборки достаточно большие. У нас в обоих группах суммарно около 70 тысяч наблюдений, что достаточно много. Но если распределения экстремально перекошены, даже при таких объямах данных Т-тест вряд ли подойдет. \n",
    "- Бутстрап, если распределение данные крайне сильно смещено или имеются ярко выраженные выбросы\n",
    "\n",
    "Теперь изучим данные, чтобы понять, какой из двух вариантов выбрать."
   ]
  },
  {
   "cell_type": "markdown",
   "metadata": {},
   "source": [
    "#### Независимость наблюдений\n",
    "Это допущение соблюдается, потому наблюдения в нашем случае -- это отдельные пользователи, доход с которых не зависит друг от друга. "
   ]
  },
  {
   "cell_type": "markdown",
   "metadata": {},
   "source": [
    "#### Изучаем распределение RPU"
   ]
  },
  {
   "cell_type": "code",
   "execution_count": 46,
   "metadata": {
    "scrolled": true
   },
   "outputs": [
    {
     "data": {
      "text/plain": [
       "Text(-12.430555555555555, 0.5, 'Кол-во пользователей')"
      ]
     },
     "execution_count": 46,
     "metadata": {},
     "output_type": "execute_result"
    },
    {
     "data": {
      "image/png": "[encoded data removed]",
      "text/plain": [
       "<Figure size 500x500 with 1 Axes>"
      ]
     },
     "metadata": {},
     "output_type": "display_data"
    }
   ],
   "source": [
    "# Изучаем распределение RPU в группе A\n",
    "\n",
    "sns.displot(data = a_group_rpu, x = 'rev')\n",
    "plt.title(\"Распределение RPU в группе А\")\n",
    "plt.xlabel('Прибыль')\n",
    "plt.ylabel('Кол-во пользователей')"
   ]
  },
  {
   "cell_type": "code",
   "execution_count": 47,
   "metadata": {},
   "outputs": [
    {
     "data": {
      "text/plain": [
       "14671"
      ]
     },
     "execution_count": 47,
     "metadata": {},
     "output_type": "execute_result"
    }
   ],
   "source": [
    "# Смотрим кол-во наблюдений в группе A\n",
    "\n",
    "a_group_rpu.shape[0]"
   ]
  },
  {
   "cell_type": "code",
   "execution_count": 48,
   "metadata": {
    "scrolled": true
   },
   "outputs": [
    {
     "data": {
      "text/plain": [
       "Text(-12.430555555555555, 0.5, 'Кол-во пользователей')"
      ]
     },
     "execution_count": 48,
     "metadata": {},
     "output_type": "execute_result"
    },
    {
     "data": {
      "image/png": "[encoded data removed]",
      "text/plain": [
       "<Figure size 500x500 with 1 Axes>"
      ]
     },
     "metadata": {},
     "output_type": "display_data"
    }
   ],
   "source": [
    "# Изучаем распределение RPU в группе B\n",
    "\n",
    "sns.displot(data = b_group_rpu, x = 'rev')\n",
    "plt.title(\"Распределение RPU в группе B\")\n",
    "plt.xlabel('Прибыль')\n",
    "plt.ylabel('Кол-во пользователей')"
   ]
  },
  {
   "cell_type": "code",
   "execution_count": 49,
   "metadata": {},
   "outputs": [
    {
     "data": {
      "text/plain": [
       "59813"
      ]
     },
     "execution_count": 49,
     "metadata": {},
     "output_type": "execute_result"
    }
   ],
   "source": [
    "# Смотрим кол-во наблюдений в группе B\n",
    "\n",
    "b_group_rpu.shape[0]"
   ]
  },
  {
   "cell_type": "markdown",
   "metadata": {},
   "source": [
    "Распределение RPU в обеих группах явно выглядит ненормальным и экстремально асимметричным. <br>\n",
    "Также сразу визуально видны выбросы в обеих группах."
   ]
  },
  {
   "cell_type": "markdown",
   "metadata": {},
   "source": [
    "#### Проверяем распределение RPU на нормальность"
   ]
  },
  {
   "cell_type": "code",
   "execution_count": 50,
   "metadata": {},
   "outputs": [
    {
     "data": {
      "text/plain": [
       "NormaltestResult(statistic=np.float64(34659.751000095835), pvalue=np.float64(0.0))"
      ]
     },
     "execution_count": 50,
     "metadata": {},
     "output_type": "execute_result"
    }
   ],
   "source": [
    "# Проверяем распределение в группе A\n",
    "st.normaltest(a_group_rpu['rev'])"
   ]
  },
  {
   "cell_type": "code",
   "execution_count": 51,
   "metadata": {},
   "outputs": [
    {
     "data": {
      "text/plain": [
       "NormaltestResult(statistic=np.float64(34659.751000095835), pvalue=np.float64(0.0))"
      ]
     },
     "execution_count": 51,
     "metadata": {},
     "output_type": "execute_result"
    }
   ],
   "source": [
    "# Проверяем распределение в группе B\n",
    "st.normaltest(a_group_rpu['rev'])"
   ]
  },
  {
   "cell_type": "markdown",
   "metadata": {},
   "source": [
    "Ожиданиемо, тест подтверждает: данные распределены ненормально"
   ]
  },
  {
   "cell_type": "markdown",
   "metadata": {},
   "source": [
    "#### Проверяем равенство дисперсий"
   ]
  },
  {
   "cell_type": "code",
   "execution_count": 52,
   "metadata": {},
   "outputs": [
    {
     "name": "stdout",
     "output_type": "stream",
     "text": [
      "LeveneResult(statistic=np.float64(2.895615700927649), pvalue=np.float64(0.0888250079218959))\n"
     ]
    }
   ],
   "source": [
    "# Проверяем равенство дисперсий с помощью теста Левена\n",
    "levene_res_arpu = st.levene(a_group_rpu['rev'], b_group_rpu['rev'])\n",
    "\n",
    "print(levene_res_arpu)"
   ]
  },
  {
   "cell_type": "markdown",
   "metadata": {},
   "source": [
    "p-value по тесту Левена > 0.05 <br>\n",
    "Нулевая гипотеза о равенстве дисперсий сохраняется"
   ]
  },
  {
   "cell_type": "markdown",
   "metadata": {},
   "source": [
    "**Вывод по стат критерию для ARPU:** <br>\n",
    "Т-тест в данном случае не подойдет. Несмотря на очень большой объем выборки (тысячи и десятки тысяч наблюдений), распределение слишком асимметрично и перекошено. Логарифмирование, возможно, поможет исправить распределение, но добавит сложности в интерпретации метрики. <br>\n",
    "\n",
    "Для определения статистической значимости различий ARPU лучше будет применять Бутстрап с 95% ДИ.<br>"
   ]
  },
  {
   "cell_type": "markdown",
   "metadata": {},
   "source": [
    "### Выбираем стат критерий для ARPPU\n",
    "Как и для ARPU, здесь у нас две опции -- Т-тест и Бутстрап. <br>\n",
    "Чтобы отпределиться между ними, проверим соблюдения все тех же требований для применения Т-теста."
   ]
  },
  {
   "cell_type": "markdown",
   "metadata": {},
   "source": [
    "#### Изучаем распределение RPPU"
   ]
  },
  {
   "cell_type": "code",
   "execution_count": 53,
   "metadata": {},
   "outputs": [
    {
     "data": {
      "text/plain": [
       "Text(13.819444444444445, 0.5, 'Кол-во платящих пользователей')"
      ]
     },
     "execution_count": 53,
     "metadata": {},
     "output_type": "execute_result"
    },
    {
     "data": {
      "image/png": "[encoded data removed]",
      "text/plain": [
       "<Figure size 500x500 with 1 Axes>"
      ]
     },
     "metadata": {},
     "output_type": "display_data"
    }
   ],
   "source": [
    "# Изучаем распределение RPPU в группе A\n",
    "\n",
    "sns.displot(data = a_group_rppu, x = 'rev')\n",
    "plt.title(\"Распределение RPPU в группе A\")\n",
    "plt.xlabel('Прибыль')\n",
    "plt.ylabel('Кол-во платящих пользователей')"
   ]
  },
  {
   "cell_type": "code",
   "execution_count": 54,
   "metadata": {},
   "outputs": [
    {
     "data": {
      "text/plain": [
       "107"
      ]
     },
     "execution_count": 54,
     "metadata": {},
     "output_type": "execute_result"
    }
   ],
   "source": [
    "# Смотрим кол-во наблюдение в группе A\n",
    "\n",
    "a_group_rppu.shape[0]"
   ]
  },
  {
   "cell_type": "code",
   "execution_count": 55,
   "metadata": {},
   "outputs": [
    {
     "data": {
      "text/plain": [
       "Text(5.069444444444445, 0.5, 'Кол-во платящих пользователей')"
      ]
     },
     "execution_count": 55,
     "metadata": {},
     "output_type": "execute_result"
    },
    {
     "data": {
      "image/png": "[encoded data removed]",
      "text/plain": [
       "<Figure size 500x500 with 1 Axes>"
      ]
     },
     "metadata": {},
     "output_type": "display_data"
    }
   ],
   "source": [
    "# Изучаем распределение RPPU в группе B\n",
    "\n",
    "sns.displot(data = b_group_rppu, x = 'rev')\n",
    "plt.title(\"Распределение RPPU в группе B\")\n",
    "plt.xlabel('Прибыль')\n",
    "plt.ylabel('Кол-во платящих пользователей')"
   ]
  },
  {
   "cell_type": "code",
   "execution_count": 56,
   "metadata": {
    "scrolled": true
   },
   "outputs": [
    {
     "data": {
      "text/plain": [
       "433"
      ]
     },
     "execution_count": 56,
     "metadata": {},
     "output_type": "execute_result"
    }
   ],
   "source": [
    "# Смотрим кол-во наблюдений в группе B\n",
    "\n",
    "b_group_rppu.shape[0]"
   ]
  },
  {
   "cell_type": "markdown",
   "metadata": {},
   "source": [
    "Распределение RPPU выглядит лучше, чем RPU, но все еще не выглядит нормальным. <br>\n",
    "Проверим нормальность распределений дополнительно с помощью теста."
   ]
  },
  {
   "cell_type": "code",
   "execution_count": 57,
   "metadata": {},
   "outputs": [
    {
     "data": {
      "text/plain": [
       "NormaltestResult(statistic=np.float64(52.21845240353401), pvalue=np.float64(4.580439316510776e-12))"
      ]
     },
     "execution_count": 57,
     "metadata": {},
     "output_type": "execute_result"
    }
   ],
   "source": [
    "# Проверяем распределение в группе A\n",
    "st.normaltest(a_group_rppu['rev'])"
   ]
  },
  {
   "cell_type": "code",
   "execution_count": 58,
   "metadata": {},
   "outputs": [
    {
     "data": {
      "text/plain": [
       "NormaltestResult(statistic=np.float64(33.75079619092679), pvalue=np.float64(4.6892968623977936e-08))"
      ]
     },
     "execution_count": 58,
     "metadata": {},
     "output_type": "execute_result"
    }
   ],
   "source": [
    "# Проверяем распределение в группе A\n",
    "st.normaltest(b_group_rppu['rev'])"
   ]
  },
  {
   "cell_type": "markdown",
   "metadata": {},
   "source": [
    "В обеих группах тесты показывают p-value сильно ниже 0.05 <br>\n",
    "Распределения в обеих группах не являются нормальными"
   ]
  },
  {
   "cell_type": "markdown",
   "metadata": {},
   "source": [
    "#### Смотрим распределение RPPU в форме боксплота, чтобы лучше увидеть наличие выбросов"
   ]
  },
  {
   "cell_type": "code",
   "execution_count": 59,
   "metadata": {},
   "outputs": [
    {
     "data": {
      "text/plain": [
       "Text(0.5, 0, 'Прибыль')"
      ]
     },
     "execution_count": 59,
     "metadata": {},
     "output_type": "execute_result"
    },
    {
     "data": {
      "image/png": "[encoded data removed]",
      "text/plain": [
       "<Figure size 640x480 with 1 Axes>"
      ]
     },
     "metadata": {},
     "output_type": "display_data"
    }
   ],
   "source": [
    "# Отображаем распределение RPPU в группе А в форме боксплота\n",
    "\n",
    "sns.boxplot(data = a_group_rppu, x = 'rev')\n",
    "plt.title(\"Распределение RPPU в группе A\")\n",
    "plt.xlabel('Прибыль')"
   ]
  },
  {
   "cell_type": "code",
   "execution_count": 60,
   "metadata": {},
   "outputs": [
    {
     "data": {
      "text/plain": [
       "Text(0.5, 0, 'Прибыль')"
      ]
     },
     "execution_count": 60,
     "metadata": {},
     "output_type": "execute_result"
    },
    {
     "data": {
      "image/png": "[encoded data removed]",
      "text/plain": [
       "<Figure size 640x480 with 1 Axes>"
      ]
     },
     "metadata": {},
     "output_type": "display_data"
    }
   ],
   "source": [
    "# Отображаем распределение RPPU в группе B в форме боксплота\n",
    "\n",
    "sns.boxplot(data = b_group_rppu, x = 'rev')\n",
    "plt.title(\"Распределение RPPU в группе B\")\n",
    "plt.xlabel('Прибыль')"
   ]
  },
  {
   "cell_type": "markdown",
   "metadata": {},
   "source": [
    "По боксплотам видно, что в обеих группах есть выбросы, причем в разном количестве: примерно 4 в группе А против одного в группе B. Кроме того видно, что в боксплотах разная ширина IQR и \"усов\". Это может указывать на разность дисперсий в группах."
   ]
  },
  {
   "cell_type": "markdown",
   "metadata": {},
   "source": [
    "#### Проверяем равенство дисперсий"
   ]
  },
  {
   "cell_type": "code",
   "execution_count": 61,
   "metadata": {
    "scrolled": true
   },
   "outputs": [
    {
     "name": "stdout",
     "output_type": "stream",
     "text": [
      "LeveneResult(statistic=np.float64(4.099799827819424), pvalue=np.float64(0.043381693677143875))\n"
     ]
    }
   ],
   "source": [
    "# Проверяем равенство дисперсий с помощью теста Левена\n",
    "levene_res_arppu = st.levene(a_group_rppu['rev'], b_group_rppu['rev'])\n",
    "\n",
    "print(levene_res_arppu)"
   ]
  },
  {
   "cell_type": "markdown",
   "metadata": {},
   "source": [
    "Тест Левена показывает p-value ~= 0.04, что ниже порога значимости в 0.05 <br>\n",
    "Требование к равенству дисперсий RPPU в группах не соблюдается"
   ]
  },
  {
   "cell_type": "markdown",
   "metadata": {},
   "source": [
    "**Вывод по стат критерию для ARPPU:** <br>\n",
    "Для ARPPU Т-тест также не подойдет: не соблюдаются требования к нормальности распределений и равенству дисперсий, а также наблюдаются выбросы. Для ARPPU также будем использовать Бутстрап с 95% ДИ. <br>"
   ]
  },
  {
   "cell_type": "markdown",
   "metadata": {},
   "source": [
    "## Проводим расчет тестов\n",
    "\n"
   ]
  },
  {
   "cell_type": "markdown",
   "metadata": {},
   "source": [
    "### Сравниваем ARPU в группах с помощью Bootstrap"
   ]
  },
  {
   "cell_type": "code",
   "execution_count": 62,
   "metadata": {},
   "outputs": [],
   "source": [
    "# Оцениваем ARPU на основе бутстрапированной выборки в группе A\n",
    "# Из-за большого размера выборки в группе B придется немного изменить стандартные аргументы функции bootstrap:\n",
    "# method -- 'basic' вместо 'BCa'. Стандартный 'BCa' использует слишком много памяти\n",
    "# n_resamples -- снизить со стандартных 9999 до 8000, опять же для экономии ресурсов\n",
    "\n",
    "arpu_bootstrap_res_a = st.bootstrap((a_group_rpu['rev'],), \n",
    "                                    statistic = np.mean, \n",
    "                                    method = 'basic', # меняем метод на 'basic'\n",
    "                                    n_resamples = 8000) # 8000 resamples вместо 9999"
   ]
  },
  {
   "cell_type": "code",
   "execution_count": 63,
   "metadata": {
    "scrolled": true
   },
   "outputs": [],
   "source": [
    "# Оцениваем ARPU на основе бутстрапированной выборки в группе B\n",
    "\n",
    "arpu_bootstrap_res_b = st.bootstrap((b_group_rpu['rev'],), \n",
    "                                    statistic = np.mean, \n",
    "                                    method = 'basic', # меняем метод на 'basic'\n",
    "                                    n_resamples = 8000) # 8000 resamples вместо 9999"
   ]
  },
  {
   "cell_type": "code",
   "execution_count": 64,
   "metadata": {},
   "outputs": [
    {
     "name": "stdout",
     "output_type": "stream",
     "text": [
      "Доверительный интервал ARPU в группе A: ConfidenceInterval(low=np.float64(4.558019221593621), high=np.float64(7.8270789312248645))\n",
      "Доверительный интервал ARPU в группе B: ConfidenceInterval(low=np.float64(7.084729140989415), high=np.float64(8.90161343186264))\n"
     ]
    }
   ],
   "source": [
    "print (f'Доверительный интервал ARPU в группе A: {arpu_bootstrap_res_a.confidence_interval}')\n",
    "print (f'Доверительный интервал ARPU в группе B: {arpu_bootstrap_res_b.confidence_interval}')"
   ]
  },
  {
   "cell_type": "markdown",
   "metadata": {},
   "source": [
    "**Вывод по различию ARPU:** <br>\n",
    "Доверительные интервалы ARPU в группах A и B пересекаются. Различия не являются статистически значимыми"
   ]
  },
  {
   "cell_type": "markdown",
   "metadata": {},
   "source": [
    "### Сравниваем ARPPU в группах с помощью Bootstrap"
   ]
  },
  {
   "cell_type": "code",
   "execution_count": 65,
   "metadata": {},
   "outputs": [],
   "source": [
    "# Оцениваем ARPPU на основе бутстрапированной выборки в группе A\n",
    "\n",
    "arppu_bootstrap_res_a = st.bootstrap((a_group_rppu['rev'],), statistic = np.mean)"
   ]
  },
  {
   "cell_type": "code",
   "execution_count": 66,
   "metadata": {},
   "outputs": [],
   "source": [
    "# Оцениваем ARPPU на основе бутстрапированной выборки в группе B\n",
    "\n",
    "arppu_bootstrap_res_b = st.bootstrap((b_group_rppu['rev'],), statistic = np.mean)"
   ]
  },
  {
   "cell_type": "code",
   "execution_count": 67,
   "metadata": {},
   "outputs": [
    {
     "name": "stdout",
     "output_type": "stream",
     "text": [
      "Доверительный интервал ARPPU в группе A: ConfidenceInterval(low=np.float64(726.6467223073914), high=np.float64(1035.0155548191617))\n",
      "Доверительный интервал ARPPU в группе B: ConfidenceInterval(low=np.float64(1039.646503989906), high=np.float64(1177.455859779089))\n"
     ]
    }
   ],
   "source": [
    "print (f'Доверительный интервал ARPPU в группе A: {arppu_bootstrap_res_a.confidence_interval}')\n",
    "print (f'Доверительный интервал ARPPU в группе B: {arppu_bootstrap_res_b.confidence_interval}')"
   ]
  },
  {
   "cell_type": "markdown",
   "metadata": {},
   "source": [
    "**Вывод по различию ARPPU**:<br>\n",
    "Доверительные интервалы ARPPU в группах не пересекаются. Различия статистически значимы.<br> \n",
    "Однако, так как за основную метрику мы берем именно ARPU, статзначимость различий ARPPU не играет решающей роли."
   ]
  },
  {
   "cell_type": "markdown",
   "metadata": {},
   "source": [
    "## Делаем вывод по итогам анализа A/B-теста\n",
    "\n",
    "Из двух метрик статистически значимые различия видны только по одной -- ARPPU. Этого недостаточно, чтобы уверенно принять решение в пользу новой механики оплаты. Основных причин две:\n",
    "1. Сама метрика ARPPU -- здесь скорее вспомогательная. Ключевое значение имеет ARPU. \n",
    "2. Доверительные интервалы ARPPU в двух группах хоть и не пересекаются, но находятся очень близко друг к другу. Лучше провести более детальный анализ, и если возможно, собрать больше данных.\n",
    "\n",
    "**Итог:**<br>\n",
    "Новую механику оплаты не раскатываем на всех пользователей."
   ]
  },
  {
   "cell_type": "markdown",
   "metadata": {},
   "source": [
    "# Решаем задачу 2"
   ]
  },
  {
   "cell_type": "markdown",
   "metadata": {},
   "source": [
    "## Описываем подзадачи"
   ]
  },
  {
   "cell_type": "markdown",
   "metadata": {},
   "source": [
    "### 1. Подсчет усердных учеников\n",
    "Образовательные курсы состоят из различных уроков, каждый из которых состоит из нескольких маленьких заданий. Каждое такое маленькое задание называется \"горошиной\". Назовём очень усердным учеником того пользователя, который хотя бы раз за текущий месяц правильно решил 20 горошин.\n",
    "\n",
    "**Задача:** <br>\n",
    "Необходимо написать оптимальный запрос, который даст информацию о количестве очень усердных студентов.\n",
    "\n",
    "### 2. Расчет прибыли на пользователя и CR в покупку курсов\n",
    "\n",
    "Образовательная платформа предлагает пройти студентам курсы по модели trial: студент может решить бесплатно лишь 30 горошин в день. Для неограниченного количества заданий в определенной дисциплине студенту необходимо приобрести полный доступ. Команда провела эксперимент, где был протестирован новый экран оплаты.\n",
    "\n",
    "**Задача:** <br>\n",
    "Необходимо в одном запросе выгрузить следующую информацию о группах пользователей:\n",
    "- ARPU \n",
    "- ARPAU \n",
    "- CR в покупку \n",
    "- СR активного пользователя в покупку \n",
    "- CR пользователя из активности по математике (subject = ’math’) в покупку курса по математике\n",
    "\n",
    "Активным считается пользователь, за все время решивший больше 10 задач правильно в любых дисциплинах.\n",
    "Активным по математике считается пользователь, за все время решивший 2 или больше задач правильно по математике."
   ]
  },
  {
   "cell_type": "markdown",
   "metadata": {},
   "source": [
    "## Описываем входные данные\n",
    "Эти таблицы лежат в БД Clickhouse. Чтобы получить их, будем подключаться к БД и считавать данные с помощью pandahouse\n",
    "\n",
    "- Таблица '**default.peas**':\n",
    "\n"
   ]
  },
  {
   "cell_type": "markdown",
   "metadata": {},
   "source": [
    "|**Название атрибута**|**Тип атрибута**|**Смысловое значение**|\n",
    "|----------|---------|----------------------|\n",
    "|st_id|int|ID ученика|\n",
    "|timest|timestamp|Время решения карточки|\n",
    "|correct|bool|Правильно ли решена горошина?|\n",
    "|subject|text|Дисциплина, в которой находится горошина|"
   ]
  },
  {
   "cell_type": "markdown",
   "metadata": {},
   "source": [
    "- Таблица '**default.studs**':\n",
    "\n",
    "|Название атрибута|Тип атрибута|Смысловое значение|\n",
    "|-----------------|------------|------------------|\n",
    "|st_id|int|ID ученика|\n",
    "|test_grp|text|Метка ученика в данном эксперименте|\n",
    "  \n"
   ]
  },
  {
   "cell_type": "markdown",
   "metadata": {},
   "source": [
    "- Таблица '**default.final_project_check**':\n",
    "\n",
    "|Название атрибута|Тип атрибута|Смысловое значение|\n",
    "|-----------------|------------|------------------|\n",
    "|st_id|int|ID ученика|\n",
    "|sale_time|timestamp|Время покупки|\n",
    "|money|int|Цена, по которой приобрели данный курс|\n",
    "|subject|text|Название дисциплины|"
   ]
  },
  {
   "cell_type": "markdown",
   "metadata": {},
   "source": [
    "## Переходим к решению задач"
   ]
  },
  {
   "cell_type": "markdown",
   "metadata": {},
   "source": [
    "### Подключаемся к базе данных Clickhouse"
   ]
  },
  {
   "cell_type": "code",
   "execution_count": 68,
   "metadata": {},
   "outputs": [],
   "source": [
    "# Прописываем параметры подключения в словарь \n",
    "\n",
    "connection_default = {'host': 'https://clickhouse.lab.karpov.courses',\n",
    "                      'database':'default',\n",
    "                      'user':'student', \n",
    "                      'password':'dpo_python_2020'\n",
    "                     }"
   ]
  },
  {
   "cell_type": "markdown",
   "metadata": {},
   "source": [
    "### Решаем задачу 1. Подсчет усердных учеников\n",
    "В этой задаче нам нужно подсчитать количество усердных учеников. Назовём очень усердным учеником того пользователя, который хотя бы раз за текущий месяц правильно решил 20 \"горошин\"."
   ]
  },
  {
   "cell_type": "code",
   "execution_count": 69,
   "metadata": {},
   "outputs": [],
   "source": [
    "# Пишем SQL-запрос для получения данных из Clickhouse\n",
    "# Данные будем получать из таблицы 'default.peas'\n",
    "\n",
    "count_hardworking_students_query = \"\"\"\n",
    "SELECT\n",
    "  COUNT (st_id) AS hardworking_students_count -- считаем кол-во студентов в таблице из позапроса\n",
    "FROM\n",
    "  (\n",
    "    SELECT\n",
    "      st_id,\n",
    "      COUNT(st_id) AS peas_completed -- считаем кол-во выполненных горошин\n",
    "    FROM\n",
    "      default.peas\n",
    "    WHERE\n",
    "      correct = 1 -- осталвяем только корректно решенные горошины\n",
    "    GROUP BY\n",
    "      st_id -- группируем по студенту\n",
    "    HAVING\n",
    "      peas_completed >= 20 -- после аггрегации оставляем только студентов с 20+ решенных горошин\n",
    "    ORDER BY\n",
    "      peas_completed DESC\n",
    "  )\n",
    "\n",
    "\"\"\""
   ]
  },
  {
   "cell_type": "code",
   "execution_count": 70,
   "metadata": {},
   "outputs": [],
   "source": [
    "# Результат запроса записывается в dataframe размером 1x1\n",
    "# Записываем этот df в переменную\n",
    "\n",
    "count_hardworking_students_result = ph.read_clickhouse(count_hardworking_students_query, connection = connection_default)"
   ]
  },
  {
   "cell_type": "code",
   "execution_count": 71,
   "metadata": {},
   "outputs": [
    {
     "name": "stdout",
     "output_type": "stream",
     "text": [
      "Количество усердных студентов -- 136\n"
     ]
    }
   ],
   "source": [
    "# Выводим на печать значение в первой строке первого столбца \n",
    "print(f\"Количество усердных студентов -- {count_hardworking_students_result.iloc[0,0]}\") "
   ]
  },
  {
   "cell_type": "markdown",
   "metadata": {},
   "source": [
    "### Решаем задачу 2. Расчет прибыли на пользователя и CR в покупку курсов\n",
    "\n",
    "В этой задаче нам нужно в одном запросе выгрузить следующую информацию о группах пользователей:\n",
    "- ARPU \n",
    "- ARPAU \n",
    "- CR в покупку \n",
    "- СR активного пользователя в покупку \n",
    "- CR пользователя из активности по математике (subject = ’math’) в покупку курса по математике\n",
    "\n",
    "Активным считается пользователь, за все время решивший больше 10 задач правильно в любых дисциплинах.\n",
    "Активным по математике считается пользователь, за все время решивший 2 или больше задач правильно по математике."
   ]
  },
  {
   "cell_type": "code",
   "execution_count": 72,
   "metadata": {},
   "outputs": [],
   "source": [
    "# Пишем SQL-запрос для получения данных из Clickhouse\n",
    "# Данные будем получать из таблиц 'default.peas', 'default.studs' и default.final_project_check\n",
    "\n",
    "metrics_for_ab_groups_query = \"\"\"\n",
    "SELECT\n",
    "  test_grp,\n",
    "  avg(revenue) AS ARPU, -- усредняем прибыль и получаем ARPU\n",
    "  avgIf(revenue, is_active = 1) AS ARPAU, -- усредняем прибыль активных пользователей и получаем ARPAU\n",
    "  avg(is_paying) AS CR1, -- усредняем частоту платящих/не платящих студентов и получаем CR1\n",
    "  avgIf(is_paying, is_active = 1) AS active_to_paying_CR, -- по аналогии с CR1 рассчитываем CR1 для активных студентов\n",
    "  avgIf(is_paying_math, is_active_math = 1) AS math_active_to_paying_CR -- по той же логике - CR1 для активных по математике\n",
    "FROM\n",
    "  (\n",
    "    SELECT\n",
    "      studs.st_id AS st_id,\n",
    "      studs.test_grp AS test_grp,\n",
    "      revenue_by_stud.rev_any_subj AS revenue, -- считаем прибыль на пользователя для ARPU\n",
    "      if(peas_completed.peas_completed > 10, 1, 0) AS is_active, -- промечаем активных пользователей\n",
    "      if(peas_completed.math_peas_completed >= 2, 1, 0) AS is_active_math, -- промечаем активных пользователей по математике\n",
    "      if(revenue_by_stud.rev_any_subj > 0, 1, 0) AS is_paying, -- промечаем платящих пользователей\n",
    "      if(revenue_by_stud.rev_math > 0, 1, 0) AS is_paying_math -- промечаем платящих пользователей по математике\n",
    "    FROM\n",
    "      default.studs \n",
    "      LEFT JOIN ( -- джоиним данные по прибыли по пользователям, чтобы рассчитать ARPU и ARPAU и прометить платящих студентов\n",
    "        SELECT\n",
    "          st_id,\n",
    "          sum(money) AS rev_any_subj, -- считаем прибыль по любым дисциплинам\n",
    "          sumIf(money, subject = 'Math') as rev_math -- считаем прибыль по математике\n",
    "        FROM\n",
    "          default.final_project_check\n",
    "        GROUP BY\n",
    "          st_id\n",
    "      ) AS revenue_by_stud ON default.studs.st_id = revenue_by_stud.st_id\n",
    "      LEFT JOIN ( -- джоиним данные по кол-ву решенных горошен, чтобы прометить активных и неактивных студентов\n",
    "        SELECT\n",
    "          st_id,\n",
    "          COUNT(st_id) peas_completed,-- считаем кол-во любых решенных горошен\n",
    "          countIf(st_id, subject = 'Math') AS math_peas_completed -- считаем кол-во решенных горошен по математике\n",
    "        FROM\n",
    "          default.peas\n",
    "        WHERE\n",
    "          correct = 1 -- фильтруем, чтобы считать только решенные горошины\n",
    "        GROUP BY\n",
    "          st_id\n",
    "        ORDER BY\n",
    "          peas_completed ASC\n",
    "      ) AS peas_completed ON default.studs.st_id = peas_completed.st_id\n",
    "  ) AS pre_aggregated_data\n",
    "GROUP BY\n",
    "-- группируем по контрольной/пилотной группе\n",
    "  test_grp \n",
    "\n",
    "\"\"\""
   ]
  },
  {
   "cell_type": "code",
   "execution_count": 73,
   "metadata": {},
   "outputs": [],
   "source": [
    "# Результат запроса записывается в dataframe\n",
    "# Записываем этот df в переменную\n",
    "\n",
    "metrics_for_ab_groups_result = ph.read_clickhouse(metrics_for_ab_groups_query, connection = connection_default)"
   ]
  },
  {
   "cell_type": "code",
   "execution_count": 74,
   "metadata": {
    "scrolled": true
   },
   "outputs": [
    {
     "data": {
      "text/html": [
       "<div>\n",
       "<style scoped>\n",
       "    .dataframe tbody tr th:only-of-type {\n",
       "        vertical-align: middle;\n",
       "    }\n",
       "\n",
       "    .dataframe tbody tr th {\n",
       "        vertical-align: top;\n",
       "    }\n",
       "\n",
       "    .dataframe thead th {\n",
       "        text-align: right;\n",
       "    }\n",
       "</style>\n",
       "<table border=\"1\" class=\"dataframe\">\n",
       "  <thead>\n",
       "    <tr style=\"text-align: right;\">\n",
       "      <th></th>\n",
       "      <th>test_grp</th>\n",
       "      <th>ARPU</th>\n",
       "      <th>ARPAU</th>\n",
       "      <th>CR1</th>\n",
       "      <th>active_to_paying_CR</th>\n",
       "      <th>math_active_to_paying_CR</th>\n",
       "    </tr>\n",
       "  </thead>\n",
       "  <tbody>\n",
       "    <tr>\n",
       "      <th>0</th>\n",
       "      <td>control</td>\n",
       "      <td>4540.983607</td>\n",
       "      <td>10393.700787</td>\n",
       "      <td>0.049180</td>\n",
       "      <td>0.110236</td>\n",
       "      <td>0.061224</td>\n",
       "    </tr>\n",
       "    <tr>\n",
       "      <th>1</th>\n",
       "      <td>pilot</td>\n",
       "      <td>11508.474576</td>\n",
       "      <td>29739.583333</td>\n",
       "      <td>0.108475</td>\n",
       "      <td>0.260417</td>\n",
       "      <td>0.095238</td>\n",
       "    </tr>\n",
       "  </tbody>\n",
       "</table>\n",
       "</div>"
      ],
      "text/plain": [
       "  test_grp          ARPU         ARPAU       CR1  active_to_paying_CR  \\\n",
       "0  control   4540.983607  10393.700787  0.049180             0.110236   \n",
       "1    pilot  11508.474576  29739.583333  0.108475             0.260417   \n",
       "\n",
       "   math_active_to_paying_CR  \n",
       "0                  0.061224  \n",
       "1                  0.095238  "
      ]
     },
     "execution_count": 74,
     "metadata": {},
     "output_type": "execute_result"
    }
   ],
   "source": [
    "# Выводим переменную на печать\n",
    "metrics_for_ab_groups_result"
   ]
  },
  {
   "cell_type": "markdown",
   "metadata": {},
   "source": [
    "# Решаем задачу 3\n",
    "В этой задаче нужно реализовать 2 функции:\n",
    "1. Функция, которая будет автоматически подгружать информацию из дополнительного файла groups_add.csv (заголовки могут отличаться) и на основании дополнительных параметров пересчитывать метрики.\n",
    "2. Функция, которая будет строить графики по получаемым метрикам."
   ]
  },
  {
   "cell_type": "markdown",
   "metadata": {},
   "source": [
    "## Пишем функцию для рассчета метрик"
   ]
  },
  {
   "cell_type": "code",
   "execution_count": 75,
   "metadata": {},
   "outputs": [],
   "source": [
    "def ab_metrics_joiner_calculator (existing_groups,new_groups,active_users,revenue_table):\n",
    "    \"\"\"\n",
    "    Функция принимает на вход в качестве аргументов 4 Pandas DataFrame:\n",
    "    1. existing_groups -- имеющийся df с группами пользователей. Должен быть в формате id | group\n",
    "    2. new_groups -- новый df в таком же формате, как existing_groups\n",
    "    3. active_users -- df c пользователями, которые считаются активными. Должен иметь 1 колонку с id юзеров\n",
    "    4. revenue_table -- df с прибылью для каждого пользователя. Должен быть в формате id | revenue\n",
    "    \n",
    "    Данные из new_groups добавляются к existing_groups, и на основе полученной таблицы происходит перерасчет метрик.\n",
    "    Какие метрики рассчитывает функция:\n",
    "    ARPAU        -- Средний Доход на Активного Пользователя\n",
    "    ARPAPU       -- Средний Доход на Активного Платящего Пользователя\n",
    "    Paying Share -- Процент Платящих Пользователей\n",
    "    \n",
    "    Функция возвращает вложенные словари. В словарях для каждой метрики есть данные в пяти форматах:\n",
    "    1. Неаггрегированная таблица для группы А - ключ 'a_group_source_table'\n",
    "    2. Неаггрегированная таблица для группы B - ключ 'b_group_source_table'\n",
    "    3. Неаггрегированная таблица для обеих групп - ключ 'ab_group_source_table'\n",
    "    4. Значение метрики в группе А - ключ 'a_group_value'\n",
    "    5. Значение метрики в группе B - ключ 'b_group_value'\n",
    "    \n",
    "    Обращаться к ключам нужно в формате ['метрика']['формат_данных']\n",
    "    \n",
    "    Пример использования:\n",
    "    Вам нужно узнать значения ARPAU в группе A\n",
    "    \n",
    "    1. Выполните фукнцию и запишите результат в любую переменную, например, results\n",
    "    results = ab_metrics_joiner_calculator(existing_groups,new_groups,active_users,revenue_table)\n",
    "    2. Обратитесь к ключам в формате results['arpau']['a_group_value']\n",
    "    \n",
    "    \"\"\"\n",
    "    \n",
    "    # Переименовываем колонки в таблицах на случай, если они будут названы иначе.\n",
    "    # Таким образом исключаем возможность конфликтов при работе таблиц\n",
    "    existing_groups = existing_groups.rename(columns = {existing_groups.columns[0]:'id', existing_groups.columns[1]:'grp'})\n",
    "    new_groups = new_groups.rename(columns = {new_groups.columns[0]:'id', new_groups.columns[1]:'grp'})\n",
    "    active_users = active_users.rename(columns = {active_users.columns[0]:'id'})\n",
    "    revenue_table = revenue_table.rename(columns = {revenue_table.columns[0]:'id', revenue_table.columns[1]:'rev'})\n",
    "    \n",
    "    # Склеиваем новый и имеющийся dataframe через pd.concat\n",
    "    united_groups = pd.concat([existing_groups, new_groups], axis = 0)\n",
    "    \n",
    "    # Делаем таблицу групп только с активными пользователями\n",
    "    groups_w_active_users_only = united_groups[united_groups['id'].isin(active_users['id'])]\n",
    "    \n",
    "    # Делаем таблицу прибыли только с активными пользователями\n",
    "    revenue_table_w_active_users_only = revenue_table[revenue_table['id'].isin(active_users['id'])]\n",
    "    \n",
    "    \n",
    "\n",
    "    # Рассчитываем ARPAU\n",
    "    # Джоиним прибыль пользователей из revenue_table_w_active_users_only в groups_w_active_users_only\n",
    "    groups_w_rpau = (groups_w_active_users_only\n",
    "                    .merge(right = revenue_table_w_active_users_only, how = 'left', on = 'id') # джоиним\n",
    "                    .fillna(value = 0) # заполняем null-значения нулями\n",
    "                    )\n",
    "    \n",
    "    # Разбиваем получившуюся таблицу c RPAU на две по группам A и B\n",
    "    a_group_rpau_table = groups_w_rpau.query('grp == \"A\"')\n",
    "    b_group_rpau_table = groups_w_rpau.query('grp == \"B\"')\n",
    "    \n",
    "    # Рассчитываем ARPAU в каждой группе, вычислив среднее значение\n",
    "    a_group_arpau = a_group_rpau_table['rev'].mean()\n",
    "    b_group_arpau = b_group_rpau_table['rev'].mean()\n",
    "    \n",
    "\n",
    "    \n",
    "    # Рассчитываем ARPAPU\n",
    "    # Джоиним группы пользователей из groups_w_active_users_only в revenue_table_w_active_users_only\n",
    "    groups_w_rpapu = revenue_table_w_active_users_only.merge(right = groups_w_active_users_only, how = 'left', on = 'id')\n",
    "    \n",
    "    # Разбиваем получившуюся таблицу с RPAPU на две по группам A и B\n",
    "    a_group_rpapu_table = groups_w_rpapu.query('grp == \"A\"')\n",
    "    b_group_rpapu_table = groups_w_rpapu.query('grp == \"B\"')\n",
    "    \n",
    "    # Рассчитываем ARPAPU в каждой группе, вычислив среднее значение\n",
    "    a_group_arpapu = a_group_rpapu_table['rev'].mean()\n",
    "    b_group_arpapu = b_group_rpapu_table['rev'].mean()\n",
    "    \n",
    "    \n",
    "    \n",
    "    # Рассчитываем Paying Share\n",
    "    # Создаем в таблице groups_w_rpau колонку is_paying, которая указывает, платящий пользователь или нет\n",
    "    # Значение в ней будет:\n",
    "    # 0, если прибыль ('rev') = 0  \n",
    "    # 1, если прибыль ('rev') > 0 \n",
    "    \n",
    "    groups_w_rpau['is_paying'] = (groups_w_rpau['rev']\n",
    "                                  .apply(lambda x: 0 if x == 0 else 1))\n",
    "    \n",
    "    \n",
    "    # Делим таблицу 'groups_filtered_w_rev' на две по группам A и B\n",
    "    a_group_is_paying_table = groups_w_rpau.query('grp == \"A\"')\n",
    "    b_group_is_paying_table = groups_w_rpau.query('grp == \"B\"')\n",
    "    \n",
    "    # Вычисляем долю платящих пользователей (Paying Share) в каждой группе.\n",
    "    # Для этого вычисляем среднее значение по колонке 'is_paying' и умножаем на 100%\n",
    "    a_group_paying_share = round(a_group_is_paying_table['is_paying'].mean() * 100, 2) # вычисляем и округляем до 2 знаков\n",
    "    b_group_paying_share = round(b_group_is_paying_table['is_paying'].mean() * 100, 2) # после запятой\n",
    "    \n",
    "\n",
    "    # Возвращаем результаты всех вычислений в виде вложенного словаря, чтобы иметь возможность обращаться к ним далее\n",
    "    \n",
    "    return {\n",
    "        'arpau':{ # данные по ARPAU\n",
    "            'a_group_source_table':a_group_rpau_table, # группа А, таблица без аггрегации\n",
    "            'b_group_source_table':b_group_rpau_table, # группа B, таблица без аггрегации\n",
    "            'ab_groups_source_table':groups_w_rpau, # Обе группы, таблица без аггрегации\n",
    "            'a_group_value':a_group_arpau, # группа А, значение метрики\n",
    "            'b_group_value':b_group_arpau  # группа B, значение метрики\n",
    "        },\n",
    "        'arpapu':{ # данные по ARPAPU\n",
    "            'a_group_source_table':a_group_rpapu_table, # группа А, таблица без аггрегации\n",
    "            'b_group_source_table':b_group_rpapu_table, # группа B, таблица без аггрегации\n",
    "            'ab_groups_source_table':groups_w_rpapu, # Обе группы, таблица без аггрегации\n",
    "            'a_group_value':a_group_arpapu, # группа А, значение метрики\n",
    "            'b_group_value':b_group_arpapu  # группа B, значение метрики      \n",
    "        },\n",
    "        'paying_share':{ # данные по Paying Share\n",
    "            'a_group_source_table':a_group_is_paying_table, # группа А, таблица без аггрегации\n",
    "            'b_group_source_table':b_group_is_paying_table, # группа B, таблица без аггрегации\n",
    "            'ab_groups_source_table':groups_w_rpau, # Обе группы, таблица без аггрегации\n",
    "            'a_group_value':a_group_paying_share, # группа А, значение метрики\n",
    "            'b_group_value':a_group_paying_share  # группа B, значение метрики\n",
    "        }\n",
    "    }\n",
    "    "
   ]
  },
  {
   "cell_type": "markdown",
   "metadata": {},
   "source": [
    "### Демонстрируем работу функции для рассчета метрик"
   ]
  },
  {
   "cell_type": "code",
   "execution_count": 76,
   "metadata": {},
   "outputs": [],
   "source": [
    "# Записываем результаты функции\n",
    "results = ab_metrics_joiner_calculator(groups, groups_add,active_studs,checks)"
   ]
  },
  {
   "cell_type": "code",
   "execution_count": 77,
   "metadata": {},
   "outputs": [],
   "source": [
    "# Из словаря с результатами выбираем таблицу с данными для метрики ARPAPU\n",
    "test_source_table_arpapu = results['arpapu']['ab_groups_source_table']"
   ]
  },
  {
   "cell_type": "code",
   "execution_count": 78,
   "metadata": {},
   "outputs": [
    {
     "name": "stdout",
     "output_type": "stream",
     "text": [
      "          id        rev grp\n",
      "0       1627   990.0000   A\n",
      "1     100300   990.0000   B\n",
      "2     108270   290.0000   B\n",
      "3     264473  1900.0001   B\n",
      "4     274352   690.0000   B\n",
      "..       ...        ...  ..\n",
      "387  5645737  1900.0000   B\n",
      "388  5651566  1900.0000   B\n",
      "389  5662322  1900.0000   B\n",
      "390  5681918  1900.0000   B\n",
      "391  5740903  1900.0000   B\n",
      "\n",
      "[392 rows x 3 columns]\n"
     ]
    }
   ],
   "source": [
    "# Выводим на печать таблицу с данными для ARPAPU \n",
    "print(test_source_table_arpapu)"
   ]
  },
  {
   "cell_type": "code",
   "execution_count": 79,
   "metadata": {},
   "outputs": [],
   "source": [
    "# Теперь выбираем из словаря значение метрики ARPAPU в группе А\n",
    "test_metric_value_arpapu = results['arpapu']['a_group_value']"
   ]
  },
  {
   "cell_type": "code",
   "execution_count": 80,
   "metadata": {},
   "outputs": [
    {
     "name": "stdout",
     "output_type": "stream",
     "text": [
      "933.5897435897435\n"
     ]
    }
   ],
   "source": [
    "\n",
    "# Выводим на печать получившееся значение метрики ARPAPU в группе А\n",
    "print(test_metric_value_arpapu)"
   ]
  },
  {
   "cell_type": "markdown",
   "metadata": {},
   "source": [
    "## Пишем функцию для отрисовки графиков на основе вычисленных метрик"
   ]
  },
  {
   "cell_type": "code",
   "execution_count": 81,
   "metadata": {
    "scrolled": true
   },
   "outputs": [],
   "source": [
    "def chart_plotter(data, result, values_column, group_column=None, metric_name=None):\n",
    "    \n",
    "    \"\"\"\n",
    "    Эта функция отрисовывает графики метрик. Графики отрисовываются в двух видах на выбор:\n",
    "    - значение метрики\n",
    "    - распределение метрики\n",
    "    \n",
    "    Функция принимает на вход 3 обязательных и 2 опциональных аргумента:\n",
    "    \n",
    "    1. data -- Pandas DataFrame\n",
    "    DataFrame с данными\n",
    "    \n",
    "    2. result -- string\n",
    "    Данные в каком формате нужно отрисовать. \n",
    "    При значении 'metric' отрисуется значение метрики, например, ARPU.\n",
    "    При значении 'distribution' отрисуется распределение метрики. В случае ARPU -- это распределение revenue per user\n",
    "    \n",
    "    3. values_column -- string\n",
    "    Rолонка с значениями для рассчета метрики и отрисовки графиков\n",
    "    \n",
    "    4. group_column -- string -- опционально \n",
    "    Колонка с значениями групп, например, A и B. Если не указать, графики будут строиться без разбивки по группам\n",
    "    \n",
    "    5. metric_name -- string -- опционально \n",
    "    Название отображаемой метрики. Используется для подписи тайтла и осей на графике.\n",
    "    Если не указать, в подпися оси будет просто \"метрика\", например, \"Значения метрики в группах А и Б\"\n",
    "                                       \n",
    "    \"\"\"\n",
    "    \n",
    "    # Первый сценарий: если выбрана отрисовка значений метрики\n",
    "    if result == 'metric':\n",
    "        if group_column: # если указана колонка с группой, то считаем метрики с разбивкой по группе\n",
    "            \n",
    "            # Вычисляем среднее значение метрики по группам\n",
    "            mean_by_group = (data\n",
    "                             .groupby(group_column, as_index = False) # группируем по колонке с группой\n",
    "                             .agg({values_column:'mean'}) # считаем среднее\n",
    "                             .rename(columns = {group_column:'group', values_column:'metric_value'})\n",
    "                            ) # меняем именя колонок, чтобы не путать их с исходными колонками\n",
    "            \n",
    "            plt.figure(figsize=(7, 4.9)) # Задаем размер полотна больше стандартного для лучшего восприятия\n",
    "            sns.barplot(data = mean_by_group, # рисуем барплот с разбивкой по группам\n",
    "                        x = 'group', \n",
    "                        y = 'metric_value') \n",
    "            if metric_name: # Если в аргументах указано название метрики (metric_name), используем в его подписях\n",
    "                plt.title(f\"Значение {metric_name} в группах A и B\") # Подписываем тайтл со именем метрики\n",
    "                plt.xlabel(\"Группа\") # подписываем ось X\n",
    "                plt.ylabel(f'{metric_name}') # подписываем ось Y с именем метрики\n",
    "            else: # Если в аргументах не указано metric_name, то также подписываем тайтл и оси, но без имени метрики\n",
    "                plt.title(\"Значение метрики в группах А и B\")  \n",
    "                plt.xlabel(\"Группа\")\n",
    "                plt.ylabel('Значение метрики')\n",
    "\n",
    "        else: # если колонка с группой не указана, то метрику рассчитываем по всему набору данных без разбивки\n",
    "            mean_wo_grouping = (data\n",
    "                               .agg({values_column:'mean'}) # считаем среднее\n",
    "                               )\n",
    "            sns.barplot(data = mean_wo_grouping) # Рисуем барплот\n",
    "            if metric_name: # Если в аргументах указано metric_name, используем его в подписях тайтла и осей\n",
    "                plt.title(f\"Значение {metric_name} без разбивки по группам\")\n",
    "                plt.xlabel(\"Все данные\")\n",
    "                plt.ylabel(f'{metric_name}')\n",
    "            else: # Если metric_name не указано, подписываем тайтл и оси без него\n",
    "                plt.title(\"Значение метрики без разбивки по группам\")\n",
    "                plt.xlabel(\"Все данные\")\n",
    "                plt.ylabel('Значение метрики')\n",
    "\n",
    "        \n",
    "        \n",
    "    # Второй сценарий: если выбрана отрисовка распределения метрики   \n",
    "    elif result == 'distribution':\n",
    "        if data[values_column].nunique() > 2: # Проверяем, не является ли переменная метрики бинарной (категориальной)  \n",
    "            if group_column: # если указана колонка с группой, то рисуем распределение с разбивкой по группе\n",
    "                plt.figure(figsize=(10, 4.9)) # задаем размер полотна больше стандартного, чтобы лучше видеть график\n",
    "                sns.histplot(data = data, # строим гистограмму\n",
    "                            x = values_column, # по оси x откладываем значения переменной нашей метрики\n",
    "                            hue = group_column, # делаем цветовую разбивку по колонке группы\n",
    "                            bins = 15, # настраеваем кол-во бинов\n",
    "                            alpha = 0.8, # делаем небольшую прозрачность, чтобы лучше различать значения \n",
    "                            palette=[\"#FF9F45\", \"#5C5E8E\"]) # выбираем подходящую палитру\n",
    "                \n",
    "                if metric_name: # Если в аргументах указано (metric_name), используем в его подписях тайтла и оси\n",
    "                    plt.title(f\"Распределение {metric_name} в группах A и B\")\n",
    "                    plt.xlabel(f'Значение {metric_name}')\n",
    "                    plt.ylabel('Кол-во наблюдений')\n",
    "                else: # Если metric_name не указано, подписываем тайтл и оси без него\n",
    "                    plt.title(\"Распределение метрики в группах A и B\")\n",
    "                    plt.xlabel(\"Значение метрики\")\n",
    "                    plt.ylabel('Кол-во наблюдений')\n",
    "            else: # Если колонка с группой не указана, то рисуем распределение без разбивки на группы\n",
    "                plt.figure(figsize=(10, 4.9)) # задаем размер полотна больше стандартного, чтобы лучше видеть график\n",
    "                sns.histplot(data = data, # рисуем гистограмму \n",
    "                            x = values_column, # по оси x откладываем значения переменной нашей метрики\n",
    "                            bins = 15, # настраиваем кол-во бинов \n",
    "                            alpha = 0.8) # делаем небольшую прозрачность, чтобы лучше различать значения\n",
    "                \n",
    "                if metric_name: # Если в аргументах указано metric_name, используем его в подписях тайтла и осей\n",
    "                    plt.title(f\"Распределение {metric_name} без разбивки по группам\")\n",
    "                    plt.xlabel(f\"Значение {metric_name}\")\n",
    "                    plt.ylabel('Кол-во наблюдений')\n",
    "                else: # Если metric_name не указано, подписываем тайтл и оси без него\n",
    "                    plt.title(\"Распределение метрики без разбивки по группам\")\n",
    "                    plt.xlabel(\"Значение метрики\")\n",
    "                    plt.ylabel('Кол-во наблюдений')\n",
    "        \n",
    "        elif data[values_column].nunique() == 2: # Если кол-во значений переменной = 2, то она категориальная и бинарная\n",
    "                                                 # В таком случае график нужно будет строить иначе\n",
    "            if group_column: # если указана колонка с группой, то считаем метрики с разбивкой по группе\n",
    "                plt.figure(figsize=(7, 4.9)) # Задаем размер полотна больше стандартного, чтобы лучше видеть график\n",
    "                sns.histplot(data = data, \n",
    "                             x = group_column, # по оси X откладываем группы\n",
    "                             hue = values_column, # делаем цветовую разбивку по значению метрики (например, 0 / 1)\n",
    "                             bins = 15, # настраиваем кол-во бинов\n",
    "                             alpha = 0.8, # делаем небольшую прозрачность, чтобы лучше различать значения\n",
    "                             palette=[\"#FF9F45\", \"#5C5E8E\"], # настраиваем подходящую палитру \n",
    "                             discrete =  True, # Указываем, что значения дискретные, чтобы избежать зазоры между столбцами \n",
    "                             stat = 'probability', # Выбираем отрисовывать процентное соотношение, а не кол-во\n",
    "                             common_norm = True, # Выбираем нормализацию обоих столбцов по общей шкале\n",
    "                             multiple = 'fill',  # Делаем, чтобы столбец занимал всю высоту и отражал соотношение\n",
    "                             shrink = 0.5) # обрезаем столбцы по бокам\n",
    "                \n",
    "                if metric_name: # Если в аргументах указано metric_name, используем его в подписях тайтла и осей\n",
    "                    plt.title(f\"Распределение {metric_name} в группах A и B\")\n",
    "                    plt.xlabel(\"Все данные\")\n",
    "                    plt.ylabel(f'Значение {metric_name}')\n",
    "                else: # Если metric_name не указано, подписываем тайтл и оси без него\n",
    "                    plt.title(\"Распределение метрики в группах A и B\")\n",
    "                    plt.xlabel(\"Все данные\")\n",
    "                    plt.ylabel('Значение метрики')\n",
    "                    \n",
    "            else: # Если колонка с группой не указана, то рисуем распределение без разбивки на группы\n",
    "                \n",
    "                # Вычисляем соотношение категорий метрики. В случае Paying Share -- соотношение 0 и 1\n",
    "                binary_dist_wo_groups = (data[values_column] \n",
    "                                        .value_counts(normalize = True) # считаем соотношение\n",
    "                                        .reset_index() # сбрасываем индекс, чтобы иметь колонку для оси X\n",
    "                                        .rename(columns = {'index':'category', values_column:'category_value'}) \n",
    "                                        ) # переименовываем колонки, чтобы не путать с исходными\n",
    "                \n",
    "                plt.figure(figsize=(7, 4.9)) # Задаем размер полотна больше стандартного, чтобы лучше видеть график\n",
    "                sns.barplot(data = binary_dist_wo_groups, # рисуем барплот по полученной таблице\n",
    "                           x = 'category', # по оси X отклыдваем категории переменной (0 и 1)\n",
    "                           y = 'category_value' # по оси Y откладываем процент этой категори от общего числа\n",
    "                           )\n",
    "                \n",
    "                # Подписываем тайтл и оси графика постоянными значениями, т.к. заранее знаем, что будет на графике\n",
    "                plt.title(\"Соотношение платящих и неплатящих в группах A и B\")\n",
    "                plt.xlabel(\"Платящие и неплатящие пользователи\")\n",
    "                plt.ylabel('Процент')       \n",
    "                    \n"
   ]
  },
  {
   "cell_type": "markdown",
   "metadata": {},
   "source": [
    "### Демонстрируем работу функции для отрисовки графиков"
   ]
  },
  {
   "cell_type": "code",
   "execution_count": 82,
   "metadata": {},
   "outputs": [
    {
     "data": {
      "text/html": [
       "<div>\n",
       "<style scoped>\n",
       "    .dataframe tbody tr th:only-of-type {\n",
       "        vertical-align: middle;\n",
       "    }\n",
       "\n",
       "    .dataframe tbody tr th {\n",
       "        vertical-align: top;\n",
       "    }\n",
       "\n",
       "    .dataframe thead th {\n",
       "        text-align: right;\n",
       "    }\n",
       "</style>\n",
       "<table border=\"1\" class=\"dataframe\">\n",
       "  <thead>\n",
       "    <tr style=\"text-align: right;\">\n",
       "      <th></th>\n",
       "      <th>id</th>\n",
       "      <th>grp</th>\n",
       "      <th>rev</th>\n",
       "      <th>is_paying</th>\n",
       "    </tr>\n",
       "  </thead>\n",
       "  <tbody>\n",
       "    <tr>\n",
       "      <th>0</th>\n",
       "      <td>1627</td>\n",
       "      <td>A</td>\n",
       "      <td>990.0</td>\n",
       "      <td>1</td>\n",
       "    </tr>\n",
       "    <tr>\n",
       "      <th>1</th>\n",
       "      <td>2085</td>\n",
       "      <td>B</td>\n",
       "      <td>0.0</td>\n",
       "      <td>0</td>\n",
       "    </tr>\n",
       "    <tr>\n",
       "      <th>2</th>\n",
       "      <td>2215</td>\n",
       "      <td>B</td>\n",
       "      <td>0.0</td>\n",
       "      <td>0</td>\n",
       "    </tr>\n",
       "    <tr>\n",
       "      <th>3</th>\n",
       "      <td>3391</td>\n",
       "      <td>A</td>\n",
       "      <td>0.0</td>\n",
       "      <td>0</td>\n",
       "    </tr>\n",
       "    <tr>\n",
       "      <th>4</th>\n",
       "      <td>3401</td>\n",
       "      <td>B</td>\n",
       "      <td>0.0</td>\n",
       "      <td>0</td>\n",
       "    </tr>\n",
       "  </tbody>\n",
       "</table>\n",
       "</div>"
      ],
      "text/plain": [
       "     id grp    rev  is_paying\n",
       "0  1627   A  990.0          1\n",
       "1  2085   B    0.0          0\n",
       "2  2215   B    0.0          0\n",
       "3  3391   A    0.0          0\n",
       "4  3401   B    0.0          0"
      ]
     },
     "execution_count": 82,
     "metadata": {},
     "output_type": "execute_result"
    }
   ],
   "source": [
    "# Получаем таблицу с данными для метрики ARPAU из словаря results, \n",
    "# который сделали ранее с помощью функции расчета метрик\n",
    "\n",
    "both_groups_arpau_data = results['arpau']['ab_groups_source_table']\n",
    "\n",
    "# Проверяем, что таблица создалась корректно\n",
    "both_groups_arpau_data.head()"
   ]
  },
  {
   "cell_type": "code",
   "execution_count": 83,
   "metadata": {},
   "outputs": [
    {
     "data": {
      "image/png": "[encoded data removed]",
      "text/plain": [
       "<Figure size 700x490 with 1 Axes>"
      ]
     },
     "metadata": {},
     "output_type": "display_data"
    }
   ],
   "source": [
    "# Делаем график для значения метрики ARPAU с разбивкой по группам\n",
    "chart_plotter(both_groups_arpau_data, 'metric', 'rev', group_column='grp', metric_name= 'ARPAU')"
   ]
  },
  {
   "cell_type": "code",
   "execution_count": 87,
   "metadata": {},
   "outputs": [],
   "source": [
    "# Теперь отрисуем распределение метрики ARPAPU\n",
    "# Получаем таблицу с данными для метрики ARPAPU из заранее созданного словаря results\n",
    "\n",
    "both_groups_arpapu_data = results['arpapu']['ab_groups_source_table']"
   ]
  },
  {
   "cell_type": "code",
   "execution_count": 88,
   "metadata": {},
   "outputs": [
    {
     "data": {
      "image/png": "[encoded data removed]",
      "text/plain": [
       "<Figure size 1000x490 with 1 Axes>"
      ]
     },
     "metadata": {},
     "output_type": "display_data"
    }
   ],
   "source": [
    "# Делаем график для распределения метрик ARPAPU с разбивкой по группам\n",
    "chart_plotter(both_groups_arpapu_data, 'distribution', 'rev', group_column='grp', metric_name= 'ARPAU')\n"
   ]
  },
  {
   "cell_type": "code",
   "execution_count": null,
   "metadata": {},
   "outputs": [],
   "source": []
  }
 ],
 "metadata": {
  "kernelspec": {
   "display_name": "venv",
   "language": "python",
   "name": "python3"
  },
  "language_info": {
   "codemirror_mode": {
    "name": "ipython",
    "version": 3
   },
   "file_extension": ".py",
   "mimetype": "text/x-python",
   "name": "python",
   "nbconvert_exporter": "python",
   "pygments_lexer": "ipython3",
   "version": "3.13.0"
  }
 },
 "nbformat": 4,
 "nbformat_minor": 4
}
